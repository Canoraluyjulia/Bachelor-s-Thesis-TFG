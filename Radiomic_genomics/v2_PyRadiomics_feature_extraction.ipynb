{
 "cells": [
  {
   "cell_type": "markdown",
   "metadata": {},
   "source": [
    "# PyRadiomics feature extraction\n",
    "This code has been created to calculate the radiomic features of a set of radiomic images of different patients. "
   ]
  },
  {
   "cell_type": "code",
   "execution_count": 1,
   "metadata": {},
   "outputs": [],
   "source": [
    "import os\n",
    "\n",
    "from radiomics import featureextractor \n",
    "import SimpleITK as sitk\n",
    "\n",
    "import numpy as np\n",
    "import nibabel as nib\n",
    "\n",
    "import csv\n",
    "import pandas as pd"
   ]
  },
  {
   "cell_type": "markdown",
   "metadata": {},
   "source": [
    "***\n",
    "## General instructions\n",
    "The main function to implement to calculate the radiomic features from the images of a set of patients is **Radiomic_features**.\n",
    "\n",
    "**Radiomic_features()** takes 3 arguments: 1) path of the input folder, 2) path of the output folder 3) path of the parameters file.\n",
    "\n",
    "### In-depth analysis of the required arguments\n",
    "***1. Path to the input folder*** The function requires two images in NIFTI format for each patient: the original and its mask. The name of the original image can be any, but the name of the mask file must contain the word \"mask\" in order to differentiate it. The pair of images (original and mask) for each patient must be stored in a unique folder named with the patient ID. All patient folders will be stored at the same time inside the input folder. The function needs as first argument the path of this input folder containing all patient folders.\n",
    "\n",
    "***2. Path of the output folder*** The function needs as second argument the path of the folder where the files with the results are to be stored. The Radiomic_features function returns one *id_patient.tsv* file for each patient with its radiomic features and another *all_patient_features.tsv* with the radiomic features of all patients joined in the same file.\n",
    "\n",
    "The first column of *all_patient_features.tsv* corresponds to the name of the radiomic features, the other columns are the values of the radiomic features for each patient, the first row being the patient ID. This format file is compatble with RadAR, and can be directly load to generate a RadAR object.\n",
    "\n",
    "***3. Path of the parameters file*** All 4 categories of customization can be provided in a single yaml or JSON structured text file. Find attached an example. The path of the *params* files must be the last argument to the function.\n",
    "\n",
    "***"
   ]
  },
  {
   "cell_type": "code",
   "execution_count": 2,
   "metadata": {},
   "outputs": [],
   "source": [
    "# Create function to instantiate teh extractor\n",
    "\n",
    "def inizialize_extractor(path_to_parameters):\n",
    "    return featureextractor.RadiomicsFeatureExtractor(path_to_parameters)"
   ]
  },
  {
   "cell_type": "code",
   "execution_count": 3,
   "metadata": {},
   "outputs": [],
   "source": [
    "# Function to print the features that will be calculated\n",
    "def print_enabled_features(extractor):\n",
    "    radiomic_features = list(extractor.enabledFeatures.keys())\n",
    "    d = {'Enabled features': radiomic_features}\n",
    "    print(pd.DataFrame(d))"
   ]
  },
  {
   "cell_type": "code",
   "execution_count": 4,
   "metadata": {},
   "outputs": [],
   "source": [
    "# Fucntion to print the settings defined to the extractor\n",
    "def print_extractor_settings(extractor):\n",
    "    settings, values = list(extractor.settings.keys()), list(extractor.settings.values())\n",
    "    d = {'Settings': settings, 'Values': values}\n",
    "    print(pd.DataFrame(d))"
   ]
  },
  {
   "cell_type": "code",
   "execution_count": 5,
   "metadata": {},
   "outputs": [],
   "source": [
    "# Function to create a list of patients ids\n",
    "def list_patients(path_to_patients):\n",
    "    return os.listdir(path_to_patients)"
   ]
  },
  {
   "cell_type": "code",
   "execution_count": 6,
   "metadata": {},
   "outputs": [],
   "source": [
    "# Function to get the original image and the mask\n",
    "def get_image_mask(patient, path_to_patients):\n",
    "    path_to_patient_files = path_to_patients + '/' + patient\n",
    "    files_for_patient = os.listdir(path_to_patient_files)\n",
    "    if len(files_for_patient) != 2:\n",
    "        print('Patient ',patient,'missing image or mask')\n",
    "        return False\n",
    "    else:\n",
    "        for file in files_for_patient:\n",
    "            if 'mask' in file:\n",
    "                path_to_mask = str(path_to_patient_files + '/' + file)\n",
    "                path_to_mask = path_to_mask\n",
    "            else:\n",
    "                path_to_original = path_to_patient_files + '/' + file\n",
    "        return path_to_original, path_to_mask"
   ]
  },
  {
   "cell_type": "code",
   "execution_count": 7,
   "metadata": {},
   "outputs": [],
   "source": [
    "# Function to calculate the radiomic features of a patient\n",
    "def calculate_radiomic_features(extractor, path_to_original_image, path_to_mask):\n",
    "    return extractor.execute(path_to_original_image, path_to_mask)"
   ]
  },
  {
   "cell_type": "code",
   "execution_count": 8,
   "metadata": {},
   "outputs": [],
   "source": [
    "# Function to save radiomic extraction results to a .tsv\n",
    "def save_results(result, path_to_output_dir, patient):\n",
    "    path_to_output_file = path_to_output_dir + '/' + patient + '.tsv'\n",
    "    \n",
    "    # Storing the radiomic features in the .tsv file\n",
    "    with open(path_to_output_file, \"w\") as outfile:\n",
    "        # Create the .tsv file\n",
    "        csvwriter = csv.writer(outfile, delimiter='\\t')\n",
    "        \n",
    "        # Iteration over all the values and keys of the extraction results\n",
    "        for key, value in result.items():\n",
    "            obj_to_write = []\n",
    "            obj_to_write.append(str(key))\n",
    "            obj_to_write.append(str(value))\n",
    "            csvwriter.writerow(obj_to_write)\n",
    "    print('Successful radiomic extraction for patient:\\t', patient)"
   ]
  },
  {
   "cell_type": "code",
   "execution_count": 9,
   "metadata": {},
   "outputs": [],
   "source": [
    "# Function to merge all .tsv into a unique .tsv file for all patients\n",
    "def merge_tsv_files(general_file, input_file, patient_id):\n",
    "    df_general = pd.read_csv(general_file,header=None, sep='\\t')\n",
    "    df_input = pd.read_csv(input_file, header=None, sep='\\t')\n",
    "\n",
    "    df_general[patient_id] = df_input[1]\n",
    "    \n",
    "    df_general.to_csv(general_file, header=None, index=False, sep='\\t')"
   ]
  },
  {
   "cell_type": "code",
   "execution_count": 10,
   "metadata": {},
   "outputs": [],
   "source": [
    "# Function to generate a unique file with the radiomic features of all the patients\n",
    "def generate_final_file(patients_list, path_to_output_dir):\n",
    "    path_to_final_file = path_to_output_dir + '/all_patient_features.tsv'\n",
    "    # Create a .tsv where to merge the values for all patients\n",
    "    base_file = path_to_output_dir + '/' + patients_list[0] + '.tsv'\n",
    "    df = pd.read_csv(base_file, header=None, sep='\\t')\n",
    "    df = df[[0]]\n",
    "    df.to_csv(path_to_final_file , header=None, index=False, sep='\\t')\n",
    "    \n",
    "    # Iteration over all the patient .tsv files to generate the global one\n",
    "    for patient in patients_list:\n",
    "        path_to_patient_file = path_to_output_dir + '/' + patient + '.tsv'\n",
    "        merge_tsv_files(path_to_final_file, path_to_patient_file, patient)\n",
    "    \n",
    "    patients_list.insert(0, '')\n",
    "    # Apending the header to the final .tsv file which will be the input for RadAR\n",
    "    df_final = pd.read_csv(path_to_final_file, header=None, sep='\\t')\n",
    "    df_final.to_csv(path_to_final_file, header=patients_list, index=False, sep='\\t')"
   ]
  },
  {
   "cell_type": "code",
   "execution_count": 11,
   "metadata": {},
   "outputs": [],
   "source": [
    "# Function to print the summary of the process\n",
    "def print_summary(id_list):\n",
    "    print('Radiomic features extraction have been finished')\n",
    "    \n",
    "    if len(id_list) == 0:\n",
    "        print('All patients could be processed')\n",
    "        \n",
    "    else:\n",
    "        print('All patients but ', len(id_list), ' were processed. The following ids correspond to the patients that may have some issues in the NIFTI input files', id_list)"
   ]
  },
  {
   "cell_type": "code",
   "execution_count": 15,
   "metadata": {},
   "outputs": [],
   "source": [
    "def Radiomic_features(path_to_patients, path_to_output, \n",
    "                                path_to_parameters):\n",
    "    # Instatntiate the extractor\n",
    "    extractor = inizialize_extractor(path_to_parameters)\n",
    "    print('Instatntiate the extractor: Done\\n')\n",
    "    \n",
    "    # Print enabled parameters\n",
    "    print_enabled_features(extractor)\n",
    "    print('Print enabled parameters: Done\\n')\n",
    "    \n",
    "    # Print settings and its corresponding values\n",
    "    print_extractor_settings(extractor)\n",
    "    print('Print settings and its corresponding values: Done\\n')\n",
    "    \n",
    "    # Creation of a patients id list\n",
    "    patients_id_list = list_patients(path_to_patients)\n",
    "    print('Creation of a patients id list: Done\\n')\n",
    "    \n",
    "    # List of patients that could not be processed\n",
    "    patients_with_error = []\n",
    "    print('list for errors: Created\\n')\n",
    "    \n",
    "    # List of patients successfuly processed\n",
    "    patients_processed = []\n",
    "    \n",
    "    # Iteration over all patients to calculate their radiomic features\n",
    "    for patient in patients_id_list:\n",
    "        try:\n",
    "            # Get path to image and mask file\n",
    "            image, mask = get_image_mask(patient, path_to_patients)\n",
    "            print('\\nimage:', image, '\\nmask:', mask)\n",
    "        \n",
    "            # Calculate radiomic features\n",
    "            result = calculate_radiomic_features(extractor, image, mask)\n",
    "            print('Radiomic features claculated for patient:',patient)\n",
    "            # Save radiomic features of the patient to a .tsv file\n",
    "            save_results(result, path_to_output, patient)\n",
    "            \n",
    "            # Append patient id to the processed patients list\n",
    "            patients_processed.append(patient)\n",
    "            \n",
    "        except:\n",
    "            patients_with_error.append(patient)\n",
    "            print('Error occurred for patient:', patient)\n",
    "    \n",
    "    # Create the final .tsv with the radiomic features of all patients\n",
    "    if len(patients_id_list) != len(patients_with_error):\n",
    "        generate_final_file(patients_processed, path_to_output)\n",
    "    \n",
    "    print_summary(patients_with_error)"
   ]
  },
  {
   "cell_type": "markdown",
   "metadata": {},
   "source": [
    "## Example execution"
   ]
  },
  {
   "cell_type": "code",
   "execution_count": 16,
   "metadata": {},
   "outputs": [],
   "source": [
    "# input arguments\n",
    "input_files = '/home/carlos/ISGlobal/im_mk_same_geometry/patients2'\n",
    "output_files = '/home/carlos/ISGlobal/im_mk_same_geometry/results4'\n",
    "parameters = '/home/carlos/ISGlobal/im_mk_same_geometry/Params.yaml'"
   ]
  },
  {
   "cell_type": "code",
   "execution_count": 17,
   "metadata": {
    "scrolled": true
   },
   "outputs": [
    {
     "name": "stdout",
     "output_type": "stream",
     "text": [
      "Instatntiate the extractor: Done\n",
      "\n",
      "  Enabled features\n",
      "0            shape\n",
      "1       firstorder\n",
      "2             glcm\n",
      "3            glrlm\n",
      "4            glszm\n",
      "5             gldm\n",
      "Print enabled parameters: Done\n",
      "\n",
      "                 Settings       Values\n",
      "0    minimumROIDimensions            2\n",
      "1          minimumROISize         None\n",
      "2               normalize        False\n",
      "3          normalizeScale            1\n",
      "4          removeOutliers         None\n",
      "5   resampledPixelSpacing         None\n",
      "6            interpolator  sitkBSpline\n",
      "7                 preCrop        False\n",
      "8             padDistance            5\n",
      "9               distances          [1]\n",
      "10                force2D        False\n",
      "11       force2Ddimension            0\n",
      "12         resegmentRange         None\n",
      "13                  label            1\n",
      "14         additionalInfo         True\n",
      "15               binWidth           25\n",
      "16          weightingNorm         None\n",
      "Print settings and its corresponding values: Done\n",
      "\n",
      "Creation of a patients id list: Done\n",
      "\n",
      "list for errors: Created\n",
      "\n",
      "\n",
      "image: /home/carlos/ISGlobal/im_mk_same_geometry/patients2/026658003932/026658003932_INSP_STD_L1_ECLIPSE.nii.gz \n",
      "mask: /home/carlos/ISGlobal/im_mk_same_geometry/patients2/026658003932/026658003932_INSP_STD_L1_ECLIPSE_mask.nii.gz\n",
      "Radiomic features claculated for patient: 026658003932\n",
      "Successful radiomic extraction for patient:\t 026658003932\n",
      "\n",
      "image: /home/carlos/ISGlobal/im_mk_same_geometry/patients2/023146000106/023146000106_INSP_STD_L1_ECLIPSE.nii.gz \n",
      "mask: /home/carlos/ISGlobal/im_mk_same_geometry/patients2/023146000106/023146000106_INSP_STD_L1_ECLIPSE_mask.nii.gz\n",
      "Error occurred for patient: 023146000106\n",
      "\n",
      "image: /home/carlos/ISGlobal/im_mk_same_geometry/patients2/026658003937/026658003937_INSP_STD_L1_ECLIPSE.nii.gz \n",
      "mask: /home/carlos/ISGlobal/im_mk_same_geometry/patients2/026658003937/026658003937_INSP_STD_L1_ECLIPSE_mask.nii.gz\n",
      "Radiomic features claculated for patient: 026658003937\n",
      "Successful radiomic extraction for patient:\t 026658003937\n",
      "Radiomic features extraction have been finished\n",
      "All patients but  1  were processed. The following ids correspond to the patients that may have some issues in the NIFTI input files\n"
     ]
    }
   ],
   "source": [
    "Radiomic_features(input_files, output_files, parameters)"
   ]
  },
  {
   "cell_type": "code",
   "execution_count": null,
   "metadata": {},
   "outputs": [],
   "source": []
  }
 ],
 "metadata": {
  "kernelspec": {
   "display_name": "Python 3",
   "language": "python",
   "name": "python3"
  },
  "language_info": {
   "codemirror_mode": {
    "name": "ipython",
    "version": 3
   },
   "file_extension": ".py",
   "mimetype": "text/x-python",
   "name": "python",
   "nbconvert_exporter": "python",
   "pygments_lexer": "ipython3",
   "version": "3.7.6"
  }
 },
 "nbformat": 4,
 "nbformat_minor": 4
}
