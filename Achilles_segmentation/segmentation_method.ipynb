{
 "cells": [
  {
   "cell_type": "code",
   "execution_count": 1,
   "metadata": {},
   "outputs": [],
   "source": [
    "import os\n",
    "import numpy as np\n",
    "import matplotlib.pyplot as plt\n",
    "from matplotlib import animation\n",
    "from ipywidgets.widgets import interact\n",
    "from IPython.display import HTML\n",
    "\n",
    "from typing import Union, Any, List, Dict\n",
    "\n",
    "from skimage import measure, morphology\n",
    "\n",
    "import pydicom"
   ]
  },
  {
   "cell_type": "code",
   "execution_count": 2,
   "metadata": {},
   "outputs": [],
   "source": [
    "def show_slice_array(arr: np.ndarray, **kwargs):\n",
    "    plt.figure()\n",
    "    print(f\"Showing array with {arr.ndim=}\")\n",
    "    if arr.ndim != 3:\n",
    "        plt.imshow(arr, **kwargs)\n",
    "        plt.axis(False)\n",
    "        plt.colorbar()\n",
    "    else:\n",
    "        def show_slice(i):\n",
    "            plt.imshow(arr[i], **kwargs)\n",
    "            plt.axis(False)\n",
    "            plt.colorbar()\n",
    "            return i\n",
    "        interact(show_slice, i=(0, len(arr)-1))"
   ]
  },
  {
   "cell_type": "code",
   "execution_count": 3,
   "metadata": {},
   "outputs": [],
   "source": [
    "def apply_mask(img, mask, maskval = 0):\n",
    "    maskedimg = np.ma.masked_where(mask == maskval, img)\n",
    "    return maskedimg"
   ]
  },
  {
   "cell_type": "code",
   "execution_count": 4,
   "metadata": {},
   "outputs": [],
   "source": [
    "def show_4_panel_comp(patient_imgs: np.ndarray, mask_arr: np.ndarray, **kwargs):\n",
    "    if patient_imgs.ndim != 3:\n",
    "        patient_imgs = patient_imgs.reshape((1, patient_imgs.shape[0], patient_imgs.shape[1]))\n",
    "    \n",
    "    def show_slice(i):\n",
    "        maskedimg = apply_mask(patient_imgs[i], mask_arr[i])\n",
    "        inverseimg = apply_mask(patient_imgs[i], mask_arr[i], 1)\n",
    "\n",
    "        palette = plt.cm.bone\n",
    "        palette.set_bad(\"orchid\")\n",
    "\n",
    "        fig, axs = plt.subplots(2,2)\n",
    "        fig.set_size_inches(10, 10)\n",
    "        axs[0,0].imshow(patient_imgs[i], cmap=palette, interpolation=\"none\")\n",
    "        axs[0,0].axis(False)\n",
    "\n",
    "        axs[0,1].imshow(mask_arr[i], cmap=plt.cm.bone, interpolation=\"none\")\n",
    "        axs[0,1].axis(False)\n",
    "\n",
    "        axs[1,0].imshow(maskedimg, cmap=palette, interpolation=\"none\")\n",
    "        axs[1,0].axis(False)\n",
    "\n",
    "        axs[1,1].imshow(inverseimg, cmap=palette, interpolation=\"none\")\n",
    "        axs[1,1].axis(False)\n",
    "        return i\n",
    "    interact(show_slice, i=range(len(patient_imgs)))"
   ]
  },
  {
   "cell_type": "code",
   "execution_count": 5,
   "metadata": {},
   "outputs": [],
   "source": [
    "def largest_label_volume(labels: np.ndarray, bg=0):\n",
    "    vals, counts = np.unique(labels, return_counts=True)\n",
    "    counts = counts[vals != bg]\n",
    "    vals = vals[vals != bg]\n",
    "    if len(counts) > 0:\n",
    "        return vals[np.argmax(counts)]\n",
    "    else:\n",
    "        return None"
   ]
  },
  {
   "cell_type": "code",
   "execution_count": 126,
   "metadata": {},
   "outputs": [],
   "source": [
    "def get_tendon_mask2(img: np.ndarray, show_process: bool = False):\n",
    "    get_bg_labels = lambda x: (x[img.shape[1]-1, 0], x[0, 0], x[0, img.shape[2]-1], x[img.shape[1]-1, img.shape[2]-1])\n",
    "    if img.ndim != 3:\n",
    "        img = img.reshape((1, img.shape[0], img.shape[1]))\n",
    "\n",
    "    # Creem la imatge binaria a partir d'un cert valor de HU. Tendò = 1, Descartat = 2\n",
    "    bin_img = np.array(img >= 1500, dtype=np.int8) + 1\n",
    "    if show_process:\n",
    "        print(\"Imatge binaria:\")\n",
    "        show_slice_array(np.ndarray.copy(bin_img))\n",
    "\n",
    "    # Identifiquem les regions conectades per poder eliminar el fons.\n",
    "    if show_process:\n",
    "        intermediate = np.empty((0, bin_img.shape[1], bin_img.shape[2]), dtype=np.int8)\n",
    "    for i, slice in enumerate(bin_img):\n",
    "        labels = measure.label(slice, connectivity=1)\n",
    "\n",
    "        if show_process:\n",
    "            intermediate = np.concatenate((intermediate, labels.reshape((1, slice.shape[0], slice.shape[1]))))\n",
    "\n",
    "        bg_labels = get_bg_labels(labels)\n",
    "        bin_img[i][np.isin(labels, bg_labels)] = 2\n",
    "    if show_process:\n",
    "        print(\"Labels:\")\n",
    "        show_slice_array(np.ndarray.copy(intermediate))\n",
    "        print(\"Fons eliminat:\")\n",
    "        show_slice_array(np.ndarray.copy(bin_img))\n",
    "\n",
    "    # Posem Descartat = 0, Tendò = 1. Així les regions descartades comparteixen l'etiqueta del fons al fer measure.label().\n",
    "    bin_img = -(bin_img-2)\n",
    "\n",
    "    # De les regions restants després de filtrar les àrees per mida i area/perimetre,\n",
    "    # ens quedem amb l'últim 5%. Llavors trobem la més gran que no sigui fons i la identifiquem com a tendò.\n",
    "    if show_process:\n",
    "        intermediate = np.empty((0, bin_img.shape[1], bin_img.shape[2]), dtype=np.int8)\n",
    "        intermediate_smallfilter = np.empty((0, bin_img.shape[1], bin_img.shape[2]), dtype=np.int8)\n",
    "        intermediate2 = np.empty((0, bin_img.shape[1], bin_img.shape[2]), dtype=np.int8)\n",
    "        intermediate_closing = np.empty((0, bin_img.shape[1], bin_img.shape[2]), dtype=np.int8)\n",
    "        intermediate3 = np.empty((0, bin_img.shape[1], bin_img.shape[2]), dtype=np.int8)\n",
    "    for i, slice in enumerate(bin_img):\n",
    "        labels2 = measure.label(slice)\n",
    "\n",
    "        if show_process:\n",
    "            intermediate = np.concatenate((intermediate, labels2.reshape((1, slice.shape[0], slice.shape[1]))))\n",
    "        \n",
    "        # Filtrem les àrees massa petites\n",
    "        vals, counts = np.unique(labels2, return_counts=True)\n",
    "        counts = counts[vals != 0]\n",
    "        vals = vals[vals != 0]\n",
    "\n",
    "        thres = np.max(counts)/20\n",
    "        small_labels = vals[counts <= thres]\n",
    "        labels2[np.isin(labels2, small_labels)] = 0\n",
    "\n",
    "        if show_process:\n",
    "            intermediate_smallfilter = np.concatenate((intermediate_smallfilter, labels2.reshape((1, slice.shape[0], slice.shape[1]))))\n",
    "\n",
    "        # Filtrem les labels que tenen un perímetre massa gran respecte al àrea.\n",
    "        labels_left = vals[np.isin(vals, small_labels, invert=True)]\n",
    "        regprops = measure.regionprops(labels2)\n",
    "        for reg in regprops:\n",
    "            if reg.area/reg.perimeter < 3.1:\n",
    "                labels2[labels2 == reg.label] = 0\n",
    "        \n",
    "        if show_process:\n",
    "            intermediate2 = np.concatenate((intermediate2, labels2.reshape((1, slice.shape[0], slice.shape[1]))))\n",
    "        \n",
    "        # Convert to binary\n",
    "        bin_img[i][labels2 == 0] = 0\n",
    "        bin_img[i][labels2 != 0] = 1\n",
    "\n",
    "        # Fem \"morphological closing\" per tal d'ajuntar àrees del tendó separades lleugerament\n",
    "        bin_img[i] = morphology.closing(bin_img[i], morphology.diamond(5))\n",
    "\n",
    "        if show_process:\n",
    "            intermediate_closing = np.concatenate((intermediate_closing, bin_img[i].reshape((1, slice.shape[0], slice.shape[1]))))\n",
    "\n",
    "        # Trobem l'àrea més gran de l'últim 5% (el 5% a la part més inferior de la imatge)\n",
    "        labels2 = measure.label(bin_img[i])\n",
    "        labels_left = np.unique(labels2)\n",
    "        if len(labels_left) > 0:\n",
    "            last_label = int(len(labels_left)*0.95) # De les labels que hi ha a la imatge, escollim l'index tal que el 5% de labels queden per sobre\n",
    "            labels2[labels2 <= labels_left[last_label-1]] = 0\n",
    "\n",
    "        if show_process:\n",
    "            intermediate3 = np.concatenate((intermediate3, labels2.reshape((1, slice.shape[0], slice.shape[1]))))\n",
    "\n",
    "        l_max = largest_label_volume(labels2)\n",
    "        if l_max is not None:\n",
    "            bin_img[i][labels2 != l_max] = 0\n",
    "        l_max = largest_label_volume(labels2)\n",
    "        if l_max is not None:\n",
    "            bin_img[i][labels2 != l_max] = 0\n",
    "    if show_process:\n",
    "        print(\"Labels stacked:\")\n",
    "        show_slice_array(np.ndarray.copy(intermediate))\n",
    "        print(\"Small filtered:\")\n",
    "        show_slice_array(np.ndarray.copy(intermediate_smallfilter))\n",
    "        print(\"Labels area/perimeter:\")\n",
    "        show_slice_array(np.ndarray.copy(intermediate2))\n",
    "        print(\"Morphological closing:\")\n",
    "        show_slice_array(np.ndarray.copy(intermediate_closing))\n",
    "        print(\"Labels bottom 5%:\")\n",
    "        show_slice_array(np.ndarray.copy(intermediate3))\n",
    "        print(\"Tendò seleccionat:\")\n",
    "        show_slice_array(np.ndarray.copy(bin_img))\n",
    "    \n",
    "    # Fem \"morphological closing\" per eliminar irregularitats i forats\n",
    "    for i, slice in enumerate(bin_img):\n",
    "        bin_img[i] = morphology.closing(slice, morphology.disk(10))\n",
    "    if show_process:\n",
    "        print(\"Morphological closing:\")\n",
    "        show_slice_array(np.ndarray.copy(bin_img))\n",
    "\n",
    "    # Tornem a utilitzar 2 com a descartat, per poder detectar els forats d'aire\n",
    "    bin_img = -(bin_img-2)\n",
    "    # Ara tenim un array de slices on cada slice conté la segmentació utilitzant els mateixos números, Tendò = 1, Descartat = 2.\n",
    "    # Si encara queden regions que no siguin fons ni tendò (forats d'aire), afegir-les a la segmentació\n",
    "    if show_process:\n",
    "        intermediate = np.empty((0, bin_img.shape[1], bin_img.shape[2]), dtype=np.int8)\n",
    "    for i, slice in enumerate(bin_img):\n",
    "        labels3 = measure.label(slice)\n",
    "\n",
    "        if show_process:\n",
    "            intermediate = np.concatenate((intermediate, labels3.reshape((1, slice.shape[0], slice.shape[1]))))\n",
    "\n",
    "        bg_labels = get_bg_labels(labels3)\n",
    "        l_max = largest_label_volume(labels2, bg_labels[0])\n",
    "        if l_max is not None:\n",
    "            bin_img[i][(labels3 != l_max) & (np.isin(labels3, bg_labels, invert=True))] = 1\n",
    "    if show_process:\n",
    "        print(\"Labels stacked:\")\n",
    "        show_slice_array(np.ndarray.copy(intermediate))\n",
    "        print(\"Bombolles d'aire eliminades:\")\n",
    "        show_slice_array(np.ndarray.copy(bin_img))\n",
    "\n",
    "    # Per últim convertim a Descartat = 0, Tendò = 1\n",
    "    bin_img = -(bin_img-2)\n",
    "    return bin_img"
   ]
  },
  {
   "cell_type": "code",
   "execution_count": 7,
   "metadata": {},
   "outputs": [],
   "source": [
    "class Patient:\n",
    "    def __init__(self, set_path: str) -> None:\n",
    "        base_dir, _, file_list = list(os.walk(set_path))[-1]\n",
    "        self.slices = [pydicom.dcmread(os.path.join(base_dir, s)) for s in file_list]\n",
    "        self.slices.sort(key = lambda x: -int(x.InstanceNumber))\n",
    "        self.n = len(self.slices)\n",
    "\n",
    "        i = 0\n",
    "        self.images = np.stack([s.pixel_array for s in self.slices])\n",
    "        \n",
    "    def __getitem__(self, ind):\n",
    "        return self.images[ind]"
   ]
  },
  {
   "attachments": {},
   "cell_type": "markdown",
   "metadata": {},
   "source": [
    "# Data loading"
   ]
  },
  {
   "cell_type": "code",
   "execution_count": 102,
   "metadata": {},
   "outputs": [],
   "source": [
    "dicom_path = r\"Tendones_Anonymous\"\n",
    "normal_folder = r\"normales\"\n",
    "patono_folder = r\"patologicos_no_simpt\"\n",
    "pato_folder = r\"patologicos_simpt\"\n",
    "subfolder = r\"FILESET\"\n",
    "\n",
    "normal_list = [Patient(os.path.join(dicom_path, normal_folder, s)) for s in os.listdir(os.path.join(dicom_path, normal_folder))]\n",
    "patono_list = [Patient(os.path.join(dicom_path, patono_folder, s)) for s in os.listdir(os.path.join(dicom_path, patono_folder))]\n",
    "pato_list = [Patient(os.path.join(dicom_path, pato_folder, s)) for s in os.listdir(os.path.join(dicom_path, pato_folder))]"
   ]
  },
  {
   "cell_type": "code",
   "execution_count": 103,
   "metadata": {},
   "outputs": [
    {
     "name": "stdout",
     "output_type": "stream",
     "text": [
      "44\n",
      "9\n",
      "8\n"
     ]
    }
   ],
   "source": [
    "print(len(normal_list))\n",
    "print(len(patono_list))\n",
    "print(len(pato_list))"
   ]
  },
  {
   "cell_type": "code",
   "execution_count": null,
   "metadata": {},
   "outputs": [
    {
     "name": "stdout",
     "output_type": "stream",
     "text": [
      "Showing array with arr.ndim=3\n"
     ]
    },
    {
     "data": {
      "text/plain": [
       "<Figure size 640x480 with 0 Axes>"
      ]
     },
     "metadata": {},
     "output_type": "display_data"
    },
    {
     "data": {
      "application/vnd.jupyter.widget-view+json": {
       "model_id": "dfd3aad4d8054e28b701e16a810d0392",
       "version_major": 2,
       "version_minor": 0
      },
      "text/plain": [
       "interactive(children=(IntSlider(value=17, description='i', max=35), Output()), _dom_classes=('widget-interact'…"
      ]
     },
     "metadata": {},
     "output_type": "display_data"
    }
   ],
   "source": [
    "show_slice_array(normal_list[0].images, cmap=plt.cm.bone)"
   ]
  },
  {
   "cell_type": "code",
   "execution_count": 118,
   "metadata": {},
   "outputs": [
    {
     "data": {
      "image/png": "[encoded data removed]",
      "text/plain": [
       "<Figure size 700x320 with 8 Axes>"
      ]
     },
     "metadata": {},
     "output_type": "display_data"
    }
   ],
   "source": [
    "fig, axs = plt.subplots(nrows = 2, ncols = 4, figsize=(7,3.2))\n",
    "for ax,i in zip(axs.flatten(), [8, 10, 12, 14, 16, 18, 20, 22]):\n",
    "    ax.imshow(normal_list[0][i], cmap=plt.cm.bone)\n",
    "    ax.axis('off')"
   ]
  },
  {
   "attachments": {},
   "cell_type": "markdown",
   "metadata": {},
   "source": [
    "### Normal"
   ]
  },
  {
   "cell_type": "code",
   "execution_count": 14,
   "metadata": {},
   "outputs": [
    {
     "name": "stdout",
     "output_type": "stream",
     "text": [
      "Imatge binaria:\n",
      "Showing array with arr.ndim=3\n"
     ]
    },
    {
     "data": {
      "text/plain": [
       "<Figure size 640x480 with 0 Axes>"
      ]
     },
     "metadata": {},
     "output_type": "display_data"
    },
    {
     "data": {
      "application/vnd.jupyter.widget-view+json": {
       "model_id": "47439dc7a3704bd0814bd1e049344339",
       "version_major": 2,
       "version_minor": 0
      },
      "text/plain": [
       "interactive(children=(IntSlider(value=17, description='i', max=35), Output()), _dom_classes=('widget-interact'…"
      ]
     },
     "metadata": {},
     "output_type": "display_data"
    },
    {
     "name": "stdout",
     "output_type": "stream",
     "text": [
      "Labels:\n",
      "Showing array with arr.ndim=3\n"
     ]
    },
    {
     "data": {
      "text/plain": [
       "<Figure size 640x480 with 0 Axes>"
      ]
     },
     "metadata": {},
     "output_type": "display_data"
    },
    {
     "data": {
      "application/vnd.jupyter.widget-view+json": {
       "model_id": "361de8cb5a754d5696921f6a99dc91c4",
       "version_major": 2,
       "version_minor": 0
      },
      "text/plain": [
       "interactive(children=(IntSlider(value=17, description='i', max=35), Output()), _dom_classes=('widget-interact'…"
      ]
     },
     "metadata": {},
     "output_type": "display_data"
    },
    {
     "name": "stdout",
     "output_type": "stream",
     "text": [
      "Fons eliminat:\n",
      "Showing array with arr.ndim=3\n"
     ]
    },
    {
     "data": {
      "text/plain": [
       "<Figure size 640x480 with 0 Axes>"
      ]
     },
     "metadata": {},
     "output_type": "display_data"
    },
    {
     "data": {
      "application/vnd.jupyter.widget-view+json": {
       "model_id": "a1083e7b2a7143d78ac645354e7742b3",
       "version_major": 2,
       "version_minor": 0
      },
      "text/plain": [
       "interactive(children=(IntSlider(value=17, description='i', max=35), Output()), _dom_classes=('widget-interact'…"
      ]
     },
     "metadata": {},
     "output_type": "display_data"
    },
    {
     "name": "stdout",
     "output_type": "stream",
     "text": [
      "Labels stacked:\n",
      "Showing array with arr.ndim=3\n"
     ]
    },
    {
     "data": {
      "text/plain": [
       "<Figure size 640x480 with 0 Axes>"
      ]
     },
     "metadata": {},
     "output_type": "display_data"
    },
    {
     "data": {
      "application/vnd.jupyter.widget-view+json": {
       "model_id": "f67edb923b424268b779ac6beb98eafa",
       "version_major": 2,
       "version_minor": 0
      },
      "text/plain": [
       "interactive(children=(IntSlider(value=17, description='i', max=35), Output()), _dom_classes=('widget-interact'…"
      ]
     },
     "metadata": {},
     "output_type": "display_data"
    },
    {
     "name": "stdout",
     "output_type": "stream",
     "text": [
      "Small filtered:\n",
      "Showing array with arr.ndim=3\n"
     ]
    },
    {
     "data": {
      "text/plain": [
       "<Figure size 640x480 with 0 Axes>"
      ]
     },
     "metadata": {},
     "output_type": "display_data"
    },
    {
     "data": {
      "application/vnd.jupyter.widget-view+json": {
       "model_id": "f94ed12294f54fbeabeb76b350350749",
       "version_major": 2,
       "version_minor": 0
      },
      "text/plain": [
       "interactive(children=(IntSlider(value=17, description='i', max=35), Output()), _dom_classes=('widget-interact'…"
      ]
     },
     "metadata": {},
     "output_type": "display_data"
    },
    {
     "name": "stdout",
     "output_type": "stream",
     "text": [
      "Labels area/perimeter:\n",
      "Showing array with arr.ndim=3\n"
     ]
    },
    {
     "data": {
      "text/plain": [
       "<Figure size 640x480 with 0 Axes>"
      ]
     },
     "metadata": {},
     "output_type": "display_data"
    },
    {
     "data": {
      "application/vnd.jupyter.widget-view+json": {
       "model_id": "0b2ed789f6bc496083a7af20ac82b1b9",
       "version_major": 2,
       "version_minor": 0
      },
      "text/plain": [
       "interactive(children=(IntSlider(value=17, description='i', max=35), Output()), _dom_classes=('widget-interact'…"
      ]
     },
     "metadata": {},
     "output_type": "display_data"
    },
    {
     "name": "stdout",
     "output_type": "stream",
     "text": [
      "Morphological closing:\n",
      "Showing array with arr.ndim=3\n"
     ]
    },
    {
     "data": {
      "text/plain": [
       "<Figure size 640x480 with 0 Axes>"
      ]
     },
     "metadata": {},
     "output_type": "display_data"
    },
    {
     "data": {
      "application/vnd.jupyter.widget-view+json": {
       "model_id": "d774b4d1aa6d437f94be5580b5c9b465",
       "version_major": 2,
       "version_minor": 0
      },
      "text/plain": [
       "interactive(children=(IntSlider(value=17, description='i', max=35), Output()), _dom_classes=('widget-interact'…"
      ]
     },
     "metadata": {},
     "output_type": "display_data"
    },
    {
     "name": "stdout",
     "output_type": "stream",
     "text": [
      "Labels bottom 5%:\n",
      "Showing array with arr.ndim=3\n"
     ]
    },
    {
     "data": {
      "text/plain": [
       "<Figure size 640x480 with 0 Axes>"
      ]
     },
     "metadata": {},
     "output_type": "display_data"
    },
    {
     "data": {
      "application/vnd.jupyter.widget-view+json": {
       "model_id": "9252e23a0996445e881b0e048a55f0da",
       "version_major": 2,
       "version_minor": 0
      },
      "text/plain": [
       "interactive(children=(IntSlider(value=17, description='i', max=35), Output()), _dom_classes=('widget-interact'…"
      ]
     },
     "metadata": {},
     "output_type": "display_data"
    },
    {
     "name": "stdout",
     "output_type": "stream",
     "text": [
      "Tendò seleccionat:\n",
      "Showing array with arr.ndim=3\n"
     ]
    },
    {
     "data": {
      "text/plain": [
       "<Figure size 640x480 with 0 Axes>"
      ]
     },
     "metadata": {},
     "output_type": "display_data"
    },
    {
     "data": {
      "application/vnd.jupyter.widget-view+json": {
       "model_id": "e930626075684d26af5aad9c43220f2e",
       "version_major": 2,
       "version_minor": 0
      },
      "text/plain": [
       "interactive(children=(IntSlider(value=17, description='i', max=35), Output()), _dom_classes=('widget-interact'…"
      ]
     },
     "metadata": {},
     "output_type": "display_data"
    },
    {
     "name": "stdout",
     "output_type": "stream",
     "text": [
      "Morphological closing:\n",
      "Showing array with arr.ndim=3\n"
     ]
    },
    {
     "data": {
      "text/plain": [
       "<Figure size 640x480 with 0 Axes>"
      ]
     },
     "metadata": {},
     "output_type": "display_data"
    },
    {
     "data": {
      "application/vnd.jupyter.widget-view+json": {
       "model_id": "197538e1da484690bcc29618ef2e31f2",
       "version_major": 2,
       "version_minor": 0
      },
      "text/plain": [
       "interactive(children=(IntSlider(value=17, description='i', max=35), Output()), _dom_classes=('widget-interact'…"
      ]
     },
     "metadata": {},
     "output_type": "display_data"
    },
    {
     "name": "stdout",
     "output_type": "stream",
     "text": [
      "Labels stacked:\n",
      "Showing array with arr.ndim=3\n"
     ]
    },
    {
     "data": {
      "text/plain": [
       "<Figure size 640x480 with 0 Axes>"
      ]
     },
     "metadata": {},
     "output_type": "display_data"
    },
    {
     "data": {
      "application/vnd.jupyter.widget-view+json": {
       "model_id": "6ac234f9db664819adce54714ea72781",
       "version_major": 2,
       "version_minor": 0
      },
      "text/plain": [
       "interactive(children=(IntSlider(value=17, description='i', max=35), Output()), _dom_classes=('widget-interact'…"
      ]
     },
     "metadata": {},
     "output_type": "display_data"
    },
    {
     "name": "stdout",
     "output_type": "stream",
     "text": [
      "Bombolles d'aire eliminades:\n",
      "Showing array with arr.ndim=3\n"
     ]
    },
    {
     "data": {
      "text/plain": [
       "<Figure size 640x480 with 0 Axes>"
      ]
     },
     "metadata": {},
     "output_type": "display_data"
    },
    {
     "data": {
      "application/vnd.jupyter.widget-view+json": {
       "model_id": "7487aeb1b6ec41a5b1eeb26eca7d6d30",
       "version_major": 2,
       "version_minor": 0
      },
      "text/plain": [
       "interactive(children=(IntSlider(value=17, description='i', max=35), Output()), _dom_classes=('widget-interact'…"
      ]
     },
     "metadata": {},
     "output_type": "display_data"
    },
    {
     "data": {
      "application/vnd.jupyter.widget-view+json": {
       "model_id": "0105e71c730c4a198218f93cfe8e167c",
       "version_major": 2,
       "version_minor": 0
      },
      "text/plain": [
       "interactive(children=(Dropdown(description='i', options=(0, 1, 2, 3, 4, 5, 6, 7, 8, 9, 10, 11, 12, 13, 14, 15,…"
      ]
     },
     "metadata": {},
     "output_type": "display_data"
    }
   ],
   "source": [
    "show_4_panel_comp(normal_list[0].images, get_tendon_mask2(normal_list[0].images, True))"
   ]
  },
  {
   "cell_type": "code",
   "execution_count": 19,
   "metadata": {},
   "outputs": [
    {
     "name": "stdout",
     "output_type": "stream",
     "text": [
      "Imatge binaria:\n",
      "Showing array with arr.ndim=3\n"
     ]
    },
    {
     "data": {
      "text/plain": [
       "<Figure size 640x480 with 0 Axes>"
      ]
     },
     "metadata": {},
     "output_type": "display_data"
    },
    {
     "data": {
      "application/vnd.jupyter.widget-view+json": {
       "model_id": "5f1ef390f8f44f448f4f98d78db81e22",
       "version_major": 2,
       "version_minor": 0
      },
      "text/plain": [
       "interactive(children=(IntSlider(value=12, description='i', max=24), Output()), _dom_classes=('widget-interact'…"
      ]
     },
     "metadata": {},
     "output_type": "display_data"
    },
    {
     "name": "stdout",
     "output_type": "stream",
     "text": [
      "Labels:\n",
      "Showing array with arr.ndim=3\n"
     ]
    },
    {
     "data": {
      "text/plain": [
       "<Figure size 640x480 with 0 Axes>"
      ]
     },
     "metadata": {},
     "output_type": "display_data"
    },
    {
     "data": {
      "application/vnd.jupyter.widget-view+json": {
       "model_id": "82590a7646784bfe96ca7d9bb026a9ef",
       "version_major": 2,
       "version_minor": 0
      },
      "text/plain": [
       "interactive(children=(IntSlider(value=12, description='i', max=24), Output()), _dom_classes=('widget-interact'…"
      ]
     },
     "metadata": {},
     "output_type": "display_data"
    },
    {
     "name": "stdout",
     "output_type": "stream",
     "text": [
      "Fons eliminat:\n",
      "Showing array with arr.ndim=3\n"
     ]
    },
    {
     "data": {
      "text/plain": [
       "<Figure size 640x480 with 0 Axes>"
      ]
     },
     "metadata": {},
     "output_type": "display_data"
    },
    {
     "data": {
      "application/vnd.jupyter.widget-view+json": {
       "model_id": "b953e1705b3a4e3aa5ea75c692b40ea8",
       "version_major": 2,
       "version_minor": 0
      },
      "text/plain": [
       "interactive(children=(IntSlider(value=12, description='i', max=24), Output()), _dom_classes=('widget-interact'…"
      ]
     },
     "metadata": {},
     "output_type": "display_data"
    },
    {
     "name": "stdout",
     "output_type": "stream",
     "text": [
      "Labels stacked:\n",
      "Showing array with arr.ndim=3\n"
     ]
    },
    {
     "data": {
      "text/plain": [
       "<Figure size 640x480 with 0 Axes>"
      ]
     },
     "metadata": {},
     "output_type": "display_data"
    },
    {
     "data": {
      "application/vnd.jupyter.widget-view+json": {
       "model_id": "434bc8536ef846afa66a55f2e2f73f7b",
       "version_major": 2,
       "version_minor": 0
      },
      "text/plain": [
       "interactive(children=(IntSlider(value=12, description='i', max=24), Output()), _dom_classes=('widget-interact'…"
      ]
     },
     "metadata": {},
     "output_type": "display_data"
    },
    {
     "name": "stdout",
     "output_type": "stream",
     "text": [
      "Small filtered:\n",
      "Showing array with arr.ndim=3\n"
     ]
    },
    {
     "data": {
      "text/plain": [
       "<Figure size 640x480 with 0 Axes>"
      ]
     },
     "metadata": {},
     "output_type": "display_data"
    },
    {
     "data": {
      "application/vnd.jupyter.widget-view+json": {
       "model_id": "1f18cb87976640dda8c6233a067fea66",
       "version_major": 2,
       "version_minor": 0
      },
      "text/plain": [
       "interactive(children=(IntSlider(value=12, description='i', max=24), Output()), _dom_classes=('widget-interact'…"
      ]
     },
     "metadata": {},
     "output_type": "display_data"
    },
    {
     "name": "stdout",
     "output_type": "stream",
     "text": [
      "Labels area/perimeter:\n",
      "Showing array with arr.ndim=3\n"
     ]
    },
    {
     "data": {
      "text/plain": [
       "<Figure size 640x480 with 0 Axes>"
      ]
     },
     "metadata": {},
     "output_type": "display_data"
    },
    {
     "data": {
      "application/vnd.jupyter.widget-view+json": {
       "model_id": "1aae0b02d7b44dee8a1d02cdfd26022e",
       "version_major": 2,
       "version_minor": 0
      },
      "text/plain": [
       "interactive(children=(IntSlider(value=12, description='i', max=24), Output()), _dom_classes=('widget-interact'…"
      ]
     },
     "metadata": {},
     "output_type": "display_data"
    },
    {
     "name": "stdout",
     "output_type": "stream",
     "text": [
      "Morphological closing:\n",
      "Showing array with arr.ndim=3\n"
     ]
    },
    {
     "data": {
      "text/plain": [
       "<Figure size 640x480 with 0 Axes>"
      ]
     },
     "metadata": {},
     "output_type": "display_data"
    },
    {
     "data": {
      "application/vnd.jupyter.widget-view+json": {
       "model_id": "50fcb350d636473f8cffcb276618029e",
       "version_major": 2,
       "version_minor": 0
      },
      "text/plain": [
       "interactive(children=(IntSlider(value=12, description='i', max=24), Output()), _dom_classes=('widget-interact'…"
      ]
     },
     "metadata": {},
     "output_type": "display_data"
    },
    {
     "name": "stdout",
     "output_type": "stream",
     "text": [
      "Labels bottom 5%:\n",
      "Showing array with arr.ndim=3\n"
     ]
    },
    {
     "data": {
      "text/plain": [
       "<Figure size 640x480 with 0 Axes>"
      ]
     },
     "metadata": {},
     "output_type": "display_data"
    },
    {
     "data": {
      "application/vnd.jupyter.widget-view+json": {
       "model_id": "7832816e12504a20a57462a2f56ba268",
       "version_major": 2,
       "version_minor": 0
      },
      "text/plain": [
       "interactive(children=(IntSlider(value=12, description='i', max=24), Output()), _dom_classes=('widget-interact'…"
      ]
     },
     "metadata": {},
     "output_type": "display_data"
    },
    {
     "name": "stdout",
     "output_type": "stream",
     "text": [
      "Tendò seleccionat:\n",
      "Showing array with arr.ndim=3\n"
     ]
    },
    {
     "data": {
      "text/plain": [
       "<Figure size 640x480 with 0 Axes>"
      ]
     },
     "metadata": {},
     "output_type": "display_data"
    },
    {
     "data": {
      "application/vnd.jupyter.widget-view+json": {
       "model_id": "ad5d52fed2b442758af553b520bc84a1",
       "version_major": 2,
       "version_minor": 0
      },
      "text/plain": [
       "interactive(children=(IntSlider(value=12, description='i', max=24), Output()), _dom_classes=('widget-interact'…"
      ]
     },
     "metadata": {},
     "output_type": "display_data"
    },
    {
     "name": "stdout",
     "output_type": "stream",
     "text": [
      "Morphological closing:\n",
      "Showing array with arr.ndim=3\n"
     ]
    },
    {
     "data": {
      "text/plain": [
       "<Figure size 640x480 with 0 Axes>"
      ]
     },
     "metadata": {},
     "output_type": "display_data"
    },
    {
     "data": {
      "application/vnd.jupyter.widget-view+json": {
       "model_id": "d1c647f449e84809bbc794c273109170",
       "version_major": 2,
       "version_minor": 0
      },
      "text/plain": [
       "interactive(children=(IntSlider(value=12, description='i', max=24), Output()), _dom_classes=('widget-interact'…"
      ]
     },
     "metadata": {},
     "output_type": "display_data"
    },
    {
     "name": "stdout",
     "output_type": "stream",
     "text": [
      "Labels stacked:\n",
      "Showing array with arr.ndim=3\n"
     ]
    },
    {
     "data": {
      "text/plain": [
       "<Figure size 640x480 with 0 Axes>"
      ]
     },
     "metadata": {},
     "output_type": "display_data"
    },
    {
     "data": {
      "application/vnd.jupyter.widget-view+json": {
       "model_id": "537e7ff9512445239b9d559d2dae89fb",
       "version_major": 2,
       "version_minor": 0
      },
      "text/plain": [
       "interactive(children=(IntSlider(value=12, description='i', max=24), Output()), _dom_classes=('widget-interact'…"
      ]
     },
     "metadata": {},
     "output_type": "display_data"
    },
    {
     "name": "stdout",
     "output_type": "stream",
     "text": [
      "Bombolles d'aire eliminades:\n",
      "Showing array with arr.ndim=3\n"
     ]
    },
    {
     "data": {
      "text/plain": [
       "<Figure size 640x480 with 0 Axes>"
      ]
     },
     "metadata": {},
     "output_type": "display_data"
    },
    {
     "data": {
      "application/vnd.jupyter.widget-view+json": {
       "model_id": "938043f7396b45338e81fabdacb3b18e",
       "version_major": 2,
       "version_minor": 0
      },
      "text/plain": [
       "interactive(children=(IntSlider(value=12, description='i', max=24), Output()), _dom_classes=('widget-interact'…"
      ]
     },
     "metadata": {},
     "output_type": "display_data"
    },
    {
     "data": {
      "application/vnd.jupyter.widget-view+json": {
       "model_id": "717b6c735025456699e9cae230a4ec04",
       "version_major": 2,
       "version_minor": 0
      },
      "text/plain": [
       "interactive(children=(Dropdown(description='i', options=(0, 1, 2, 3, 4, 5, 6, 7, 8, 9, 10, 11, 12, 13, 14, 15,…"
      ]
     },
     "metadata": {},
     "output_type": "display_data"
    }
   ],
   "source": [
    "show_4_panel_comp(normal_list[1].images, get_tendon_mask2(normal_list[1].images, True))"
   ]
  },
  {
   "cell_type": "code",
   "execution_count": 56,
   "metadata": {},
   "outputs": [
    {
     "name": "stdout",
     "output_type": "stream",
     "text": [
      "Imatge binaria:\n",
      "Showing array with arr.ndim=3\n"
     ]
    },
    {
     "data": {
      "text/plain": [
       "<Figure size 640x480 with 0 Axes>"
      ]
     },
     "metadata": {},
     "output_type": "display_data"
    },
    {
     "data": {
      "application/vnd.jupyter.widget-view+json": {
       "model_id": "9a96568467184d5e821311d84eccbbc9",
       "version_major": 2,
       "version_minor": 0
      },
      "text/plain": [
       "interactive(children=(IntSlider(value=17, description='i', max=34), Output()), _dom_classes=('widget-interact'…"
      ]
     },
     "metadata": {},
     "output_type": "display_data"
    },
    {
     "name": "stdout",
     "output_type": "stream",
     "text": [
      "Labels:\n",
      "Showing array with arr.ndim=3\n"
     ]
    },
    {
     "data": {
      "text/plain": [
       "<Figure size 640x480 with 0 Axes>"
      ]
     },
     "metadata": {},
     "output_type": "display_data"
    },
    {
     "data": {
      "application/vnd.jupyter.widget-view+json": {
       "model_id": "6be9b5c4c11a4eedba1e2455e778db0e",
       "version_major": 2,
       "version_minor": 0
      },
      "text/plain": [
       "interactive(children=(IntSlider(value=17, description='i', max=34), Output()), _dom_classes=('widget-interact'…"
      ]
     },
     "metadata": {},
     "output_type": "display_data"
    },
    {
     "name": "stdout",
     "output_type": "stream",
     "text": [
      "Fons eliminat:\n",
      "Showing array with arr.ndim=3\n"
     ]
    },
    {
     "data": {
      "text/plain": [
       "<Figure size 640x480 with 0 Axes>"
      ]
     },
     "metadata": {},
     "output_type": "display_data"
    },
    {
     "data": {
      "application/vnd.jupyter.widget-view+json": {
       "model_id": "06a88d8fc9434b3a971d2f66452f81c9",
       "version_major": 2,
       "version_minor": 0
      },
      "text/plain": [
       "interactive(children=(IntSlider(value=17, description='i', max=34), Output()), _dom_classes=('widget-interact'…"
      ]
     },
     "metadata": {},
     "output_type": "display_data"
    },
    {
     "name": "stdout",
     "output_type": "stream",
     "text": [
      "Labels stacked:\n",
      "Showing array with arr.ndim=3\n"
     ]
    },
    {
     "data": {
      "text/plain": [
       "<Figure size 640x480 with 0 Axes>"
      ]
     },
     "metadata": {},
     "output_type": "display_data"
    },
    {
     "data": {
      "application/vnd.jupyter.widget-view+json": {
       "model_id": "2b0c014eb9344993b420bd1c7e458160",
       "version_major": 2,
       "version_minor": 0
      },
      "text/plain": [
       "interactive(children=(IntSlider(value=17, description='i', max=34), Output()), _dom_classes=('widget-interact'…"
      ]
     },
     "metadata": {},
     "output_type": "display_data"
    },
    {
     "name": "stdout",
     "output_type": "stream",
     "text": [
      "Small filtered:\n",
      "Showing array with arr.ndim=3\n"
     ]
    },
    {
     "data": {
      "text/plain": [
       "<Figure size 640x480 with 0 Axes>"
      ]
     },
     "metadata": {},
     "output_type": "display_data"
    },
    {
     "data": {
      "application/vnd.jupyter.widget-view+json": {
       "model_id": "8c631e2281da4464a06ca4bdadaebe47",
       "version_major": 2,
       "version_minor": 0
      },
      "text/plain": [
       "interactive(children=(IntSlider(value=17, description='i', max=34), Output()), _dom_classes=('widget-interact'…"
      ]
     },
     "metadata": {},
     "output_type": "display_data"
    },
    {
     "name": "stdout",
     "output_type": "stream",
     "text": [
      "Labels area/perimeter:\n",
      "Showing array with arr.ndim=3\n"
     ]
    },
    {
     "data": {
      "text/plain": [
       "<Figure size 640x480 with 0 Axes>"
      ]
     },
     "metadata": {},
     "output_type": "display_data"
    },
    {
     "data": {
      "application/vnd.jupyter.widget-view+json": {
       "model_id": "ca2e3887a2e9466ba74bfb91469e1069",
       "version_major": 2,
       "version_minor": 0
      },
      "text/plain": [
       "interactive(children=(IntSlider(value=17, description='i', max=34), Output()), _dom_classes=('widget-interact'…"
      ]
     },
     "metadata": {},
     "output_type": "display_data"
    },
    {
     "name": "stdout",
     "output_type": "stream",
     "text": [
      "Morphological closing:\n",
      "Showing array with arr.ndim=3\n"
     ]
    },
    {
     "data": {
      "text/plain": [
       "<Figure size 640x480 with 0 Axes>"
      ]
     },
     "metadata": {},
     "output_type": "display_data"
    },
    {
     "data": {
      "application/vnd.jupyter.widget-view+json": {
       "model_id": "0cf09d70999544ae8f7d18629c8b2ac3",
       "version_major": 2,
       "version_minor": 0
      },
      "text/plain": [
       "interactive(children=(IntSlider(value=17, description='i', max=34), Output()), _dom_classes=('widget-interact'…"
      ]
     },
     "metadata": {},
     "output_type": "display_data"
    },
    {
     "name": "stdout",
     "output_type": "stream",
     "text": [
      "Labels bottom 5%:\n",
      "Showing array with arr.ndim=3\n"
     ]
    },
    {
     "data": {
      "text/plain": [
       "<Figure size 640x480 with 0 Axes>"
      ]
     },
     "metadata": {},
     "output_type": "display_data"
    },
    {
     "data": {
      "application/vnd.jupyter.widget-view+json": {
       "model_id": "90cfad2cc10b4d44a5dc367607a3c725",
       "version_major": 2,
       "version_minor": 0
      },
      "text/plain": [
       "interactive(children=(IntSlider(value=17, description='i', max=34), Output()), _dom_classes=('widget-interact'…"
      ]
     },
     "metadata": {},
     "output_type": "display_data"
    },
    {
     "name": "stdout",
     "output_type": "stream",
     "text": [
      "Tendò seleccionat:\n",
      "Showing array with arr.ndim=3\n"
     ]
    },
    {
     "data": {
      "text/plain": [
       "<Figure size 640x480 with 0 Axes>"
      ]
     },
     "metadata": {},
     "output_type": "display_data"
    },
    {
     "data": {
      "application/vnd.jupyter.widget-view+json": {
       "model_id": "4bf6eccc94b145aaaef04e1ee18ff0bc",
       "version_major": 2,
       "version_minor": 0
      },
      "text/plain": [
       "interactive(children=(IntSlider(value=17, description='i', max=34), Output()), _dom_classes=('widget-interact'…"
      ]
     },
     "metadata": {},
     "output_type": "display_data"
    },
    {
     "name": "stdout",
     "output_type": "stream",
     "text": [
      "Morphological closing:\n",
      "Showing array with arr.ndim=3\n"
     ]
    },
    {
     "data": {
      "text/plain": [
       "<Figure size 640x480 with 0 Axes>"
      ]
     },
     "metadata": {},
     "output_type": "display_data"
    },
    {
     "data": {
      "application/vnd.jupyter.widget-view+json": {
       "model_id": "f623bff3967345a99267d70ce6605fc4",
       "version_major": 2,
       "version_minor": 0
      },
      "text/plain": [
       "interactive(children=(IntSlider(value=17, description='i', max=34), Output()), _dom_classes=('widget-interact'…"
      ]
     },
     "metadata": {},
     "output_type": "display_data"
    },
    {
     "name": "stdout",
     "output_type": "stream",
     "text": [
      "Labels stacked:\n",
      "Showing array with arr.ndim=3\n"
     ]
    },
    {
     "data": {
      "text/plain": [
       "<Figure size 640x480 with 0 Axes>"
      ]
     },
     "metadata": {},
     "output_type": "display_data"
    },
    {
     "data": {
      "application/vnd.jupyter.widget-view+json": {
       "model_id": "d360da68d7114d7482ab9377974027b0",
       "version_major": 2,
       "version_minor": 0
      },
      "text/plain": [
       "interactive(children=(IntSlider(value=17, description='i', max=34), Output()), _dom_classes=('widget-interact'…"
      ]
     },
     "metadata": {},
     "output_type": "display_data"
    },
    {
     "name": "stdout",
     "output_type": "stream",
     "text": [
      "Bombolles d'aire eliminades:\n",
      "Showing array with arr.ndim=3\n"
     ]
    },
    {
     "data": {
      "text/plain": [
       "<Figure size 640x480 with 0 Axes>"
      ]
     },
     "metadata": {},
     "output_type": "display_data"
    },
    {
     "data": {
      "application/vnd.jupyter.widget-view+json": {
       "model_id": "30007a2014dc4312a826b1f72f20072d",
       "version_major": 2,
       "version_minor": 0
      },
      "text/plain": [
       "interactive(children=(IntSlider(value=17, description='i', max=34), Output()), _dom_classes=('widget-interact'…"
      ]
     },
     "metadata": {},
     "output_type": "display_data"
    },
    {
     "data": {
      "application/vnd.jupyter.widget-view+json": {
       "model_id": "c3dd5629168342bb8e14a78817c58f79",
       "version_major": 2,
       "version_minor": 0
      },
      "text/plain": [
       "interactive(children=(Dropdown(description='i', options=(0, 1, 2, 3, 4, 5, 6, 7, 8, 9, 10, 11, 12, 13, 14, 15,…"
      ]
     },
     "metadata": {},
     "output_type": "display_data"
    }
   ],
   "source": [
    "show_4_panel_comp(normal_list[2].images, get_tendon_mask2(normal_list[2].images, True))"
   ]
  },
  {
   "attachments": {},
   "cell_type": "markdown",
   "metadata": {},
   "source": [
    "### Pathological"
   ]
  },
  {
   "cell_type": "code",
   "execution_count": 57,
   "metadata": {},
   "outputs": [
    {
     "name": "stdout",
     "output_type": "stream",
     "text": [
      "Imatge binaria:\n",
      "Showing array with arr.ndim=3\n"
     ]
    },
    {
     "data": {
      "text/plain": [
       "<Figure size 640x480 with 0 Axes>"
      ]
     },
     "metadata": {},
     "output_type": "display_data"
    },
    {
     "data": {
      "application/vnd.jupyter.widget-view+json": {
       "model_id": "235c07109d1c4d82b4c1a1aa8f84f36a",
       "version_major": 2,
       "version_minor": 0
      },
      "text/plain": [
       "interactive(children=(IntSlider(value=16, description='i', max=33), Output()), _dom_classes=('widget-interact'…"
      ]
     },
     "metadata": {},
     "output_type": "display_data"
    },
    {
     "name": "stdout",
     "output_type": "stream",
     "text": [
      "Labels:\n",
      "Showing array with arr.ndim=3\n"
     ]
    },
    {
     "data": {
      "text/plain": [
       "<Figure size 640x480 with 0 Axes>"
      ]
     },
     "metadata": {},
     "output_type": "display_data"
    },
    {
     "data": {
      "application/vnd.jupyter.widget-view+json": {
       "model_id": "88fbc0e2bcc74ed480883c285e05f470",
       "version_major": 2,
       "version_minor": 0
      },
      "text/plain": [
       "interactive(children=(IntSlider(value=16, description='i', max=33), Output()), _dom_classes=('widget-interact'…"
      ]
     },
     "metadata": {},
     "output_type": "display_data"
    },
    {
     "name": "stdout",
     "output_type": "stream",
     "text": [
      "Fons eliminat:\n",
      "Showing array with arr.ndim=3\n"
     ]
    },
    {
     "data": {
      "text/plain": [
       "<Figure size 640x480 with 0 Axes>"
      ]
     },
     "metadata": {},
     "output_type": "display_data"
    },
    {
     "data": {
      "application/vnd.jupyter.widget-view+json": {
       "model_id": "9681608fea7e431fb0ad143ebfa279f0",
       "version_major": 2,
       "version_minor": 0
      },
      "text/plain": [
       "interactive(children=(IntSlider(value=16, description='i', max=33), Output()), _dom_classes=('widget-interact'…"
      ]
     },
     "metadata": {},
     "output_type": "display_data"
    },
    {
     "name": "stdout",
     "output_type": "stream",
     "text": [
      "Labels stacked:\n",
      "Showing array with arr.ndim=3\n"
     ]
    },
    {
     "data": {
      "text/plain": [
       "<Figure size 640x480 with 0 Axes>"
      ]
     },
     "metadata": {},
     "output_type": "display_data"
    },
    {
     "data": {
      "application/vnd.jupyter.widget-view+json": {
       "model_id": "d82ddd2fc5ed4ff291869f733fafa524",
       "version_major": 2,
       "version_minor": 0
      },
      "text/plain": [
       "interactive(children=(IntSlider(value=16, description='i', max=33), Output()), _dom_classes=('widget-interact'…"
      ]
     },
     "metadata": {},
     "output_type": "display_data"
    },
    {
     "name": "stdout",
     "output_type": "stream",
     "text": [
      "Small filtered:\n",
      "Showing array with arr.ndim=3\n"
     ]
    },
    {
     "data": {
      "text/plain": [
       "<Figure size 640x480 with 0 Axes>"
      ]
     },
     "metadata": {},
     "output_type": "display_data"
    },
    {
     "data": {
      "application/vnd.jupyter.widget-view+json": {
       "model_id": "986cc74a164249f88b43d26df33f25d4",
       "version_major": 2,
       "version_minor": 0
      },
      "text/plain": [
       "interactive(children=(IntSlider(value=16, description='i', max=33), Output()), _dom_classes=('widget-interact'…"
      ]
     },
     "metadata": {},
     "output_type": "display_data"
    },
    {
     "name": "stdout",
     "output_type": "stream",
     "text": [
      "Labels area/perimeter:\n",
      "Showing array with arr.ndim=3\n"
     ]
    },
    {
     "data": {
      "text/plain": [
       "<Figure size 640x480 with 0 Axes>"
      ]
     },
     "metadata": {},
     "output_type": "display_data"
    },
    {
     "data": {
      "application/vnd.jupyter.widget-view+json": {
       "model_id": "dd1103c50eaa49ba9c086811a6637273",
       "version_major": 2,
       "version_minor": 0
      },
      "text/plain": [
       "interactive(children=(IntSlider(value=16, description='i', max=33), Output()), _dom_classes=('widget-interact'…"
      ]
     },
     "metadata": {},
     "output_type": "display_data"
    },
    {
     "name": "stdout",
     "output_type": "stream",
     "text": [
      "Morphological closing:\n",
      "Showing array with arr.ndim=3\n"
     ]
    },
    {
     "data": {
      "text/plain": [
       "<Figure size 640x480 with 0 Axes>"
      ]
     },
     "metadata": {},
     "output_type": "display_data"
    },
    {
     "data": {
      "application/vnd.jupyter.widget-view+json": {
       "model_id": "b1aec03e9cae410daf9d369f4ee555cb",
       "version_major": 2,
       "version_minor": 0
      },
      "text/plain": [
       "interactive(children=(IntSlider(value=16, description='i', max=33), Output()), _dom_classes=('widget-interact'…"
      ]
     },
     "metadata": {},
     "output_type": "display_data"
    },
    {
     "name": "stdout",
     "output_type": "stream",
     "text": [
      "Labels bottom 5%:\n",
      "Showing array with arr.ndim=3\n"
     ]
    },
    {
     "data": {
      "text/plain": [
       "<Figure size 640x480 with 0 Axes>"
      ]
     },
     "metadata": {},
     "output_type": "display_data"
    },
    {
     "data": {
      "application/vnd.jupyter.widget-view+json": {
       "model_id": "f9179f1e679e4d50969b602e7b2643de",
       "version_major": 2,
       "version_minor": 0
      },
      "text/plain": [
       "interactive(children=(IntSlider(value=16, description='i', max=33), Output()), _dom_classes=('widget-interact'…"
      ]
     },
     "metadata": {},
     "output_type": "display_data"
    },
    {
     "name": "stdout",
     "output_type": "stream",
     "text": [
      "Tendò seleccionat:\n",
      "Showing array with arr.ndim=3\n"
     ]
    },
    {
     "data": {
      "text/plain": [
       "<Figure size 640x480 with 0 Axes>"
      ]
     },
     "metadata": {},
     "output_type": "display_data"
    },
    {
     "data": {
      "application/vnd.jupyter.widget-view+json": {
       "model_id": "86e2b502c36a489b8535c1584033d1d8",
       "version_major": 2,
       "version_minor": 0
      },
      "text/plain": [
       "interactive(children=(IntSlider(value=16, description='i', max=33), Output()), _dom_classes=('widget-interact'…"
      ]
     },
     "metadata": {},
     "output_type": "display_data"
    },
    {
     "name": "stdout",
     "output_type": "stream",
     "text": [
      "Morphological closing:\n",
      "Showing array with arr.ndim=3\n"
     ]
    },
    {
     "data": {
      "text/plain": [
       "<Figure size 640x480 with 0 Axes>"
      ]
     },
     "metadata": {},
     "output_type": "display_data"
    },
    {
     "data": {
      "application/vnd.jupyter.widget-view+json": {
       "model_id": "2e01958e435f4ac39f436feb3de28b1a",
       "version_major": 2,
       "version_minor": 0
      },
      "text/plain": [
       "interactive(children=(IntSlider(value=16, description='i', max=33), Output()), _dom_classes=('widget-interact'…"
      ]
     },
     "metadata": {},
     "output_type": "display_data"
    },
    {
     "name": "stdout",
     "output_type": "stream",
     "text": [
      "Labels stacked:\n",
      "Showing array with arr.ndim=3\n"
     ]
    },
    {
     "data": {
      "text/plain": [
       "<Figure size 640x480 with 0 Axes>"
      ]
     },
     "metadata": {},
     "output_type": "display_data"
    },
    {
     "data": {
      "application/vnd.jupyter.widget-view+json": {
       "model_id": "2e39af850c184ea5bf76d6299e114400",
       "version_major": 2,
       "version_minor": 0
      },
      "text/plain": [
       "interactive(children=(IntSlider(value=16, description='i', max=33), Output()), _dom_classes=('widget-interact'…"
      ]
     },
     "metadata": {},
     "output_type": "display_data"
    },
    {
     "name": "stdout",
     "output_type": "stream",
     "text": [
      "Bombolles d'aire eliminades:\n",
      "Showing array with arr.ndim=3\n"
     ]
    },
    {
     "data": {
      "text/plain": [
       "<Figure size 640x480 with 0 Axes>"
      ]
     },
     "metadata": {},
     "output_type": "display_data"
    },
    {
     "data": {
      "application/vnd.jupyter.widget-view+json": {
       "model_id": "4ea21f5fd3ff42db84032f877c092a98",
       "version_major": 2,
       "version_minor": 0
      },
      "text/plain": [
       "interactive(children=(IntSlider(value=16, description='i', max=33), Output()), _dom_classes=('widget-interact'…"
      ]
     },
     "metadata": {},
     "output_type": "display_data"
    },
    {
     "data": {
      "application/vnd.jupyter.widget-view+json": {
       "model_id": "2257b1fde5ab4319a84035e74a239442",
       "version_major": 2,
       "version_minor": 0
      },
      "text/plain": [
       "interactive(children=(Dropdown(description='i', options=(0, 1, 2, 3, 4, 5, 6, 7, 8, 9, 10, 11, 12, 13, 14, 15,…"
      ]
     },
     "metadata": {},
     "output_type": "display_data"
    }
   ],
   "source": [
    "show_4_panel_comp(pato_list[1].images, get_tendon_mask2(pato_list[1].images, True))"
   ]
  },
  {
   "cell_type": "code",
   "execution_count": 58,
   "metadata": {},
   "outputs": [
    {
     "name": "stdout",
     "output_type": "stream",
     "text": [
      "Imatge binaria:\n",
      "Showing array with arr.ndim=3\n"
     ]
    },
    {
     "data": {
      "text/plain": [
       "<Figure size 640x480 with 0 Axes>"
      ]
     },
     "metadata": {},
     "output_type": "display_data"
    },
    {
     "data": {
      "application/vnd.jupyter.widget-view+json": {
       "model_id": "7c56e4d30de24851a11e44a92c5969c1",
       "version_major": 2,
       "version_minor": 0
      },
      "text/plain": [
       "interactive(children=(IntSlider(value=19, description='i', max=39), Output()), _dom_classes=('widget-interact'…"
      ]
     },
     "metadata": {},
     "output_type": "display_data"
    },
    {
     "name": "stdout",
     "output_type": "stream",
     "text": [
      "Labels:\n",
      "Showing array with arr.ndim=3\n"
     ]
    },
    {
     "data": {
      "text/plain": [
       "<Figure size 640x480 with 0 Axes>"
      ]
     },
     "metadata": {},
     "output_type": "display_data"
    },
    {
     "data": {
      "application/vnd.jupyter.widget-view+json": {
       "model_id": "1134953be4e64765835fa33aa229585f",
       "version_major": 2,
       "version_minor": 0
      },
      "text/plain": [
       "interactive(children=(IntSlider(value=19, description='i', max=39), Output()), _dom_classes=('widget-interact'…"
      ]
     },
     "metadata": {},
     "output_type": "display_data"
    },
    {
     "name": "stdout",
     "output_type": "stream",
     "text": [
      "Fons eliminat:\n",
      "Showing array with arr.ndim=3\n"
     ]
    },
    {
     "data": {
      "text/plain": [
       "<Figure size 640x480 with 0 Axes>"
      ]
     },
     "metadata": {},
     "output_type": "display_data"
    },
    {
     "data": {
      "application/vnd.jupyter.widget-view+json": {
       "model_id": "0138c7fe08c0428fb29869a63fc67c49",
       "version_major": 2,
       "version_minor": 0
      },
      "text/plain": [
       "interactive(children=(IntSlider(value=19, description='i', max=39), Output()), _dom_classes=('widget-interact'…"
      ]
     },
     "metadata": {},
     "output_type": "display_data"
    },
    {
     "name": "stdout",
     "output_type": "stream",
     "text": [
      "Labels stacked:\n",
      "Showing array with arr.ndim=3\n"
     ]
    },
    {
     "data": {
      "text/plain": [
       "<Figure size 640x480 with 0 Axes>"
      ]
     },
     "metadata": {},
     "output_type": "display_data"
    },
    {
     "data": {
      "application/vnd.jupyter.widget-view+json": {
       "model_id": "f14c61a8f1c4410d9bb808376320f203",
       "version_major": 2,
       "version_minor": 0
      },
      "text/plain": [
       "interactive(children=(IntSlider(value=19, description='i', max=39), Output()), _dom_classes=('widget-interact'…"
      ]
     },
     "metadata": {},
     "output_type": "display_data"
    },
    {
     "name": "stdout",
     "output_type": "stream",
     "text": [
      "Small filtered:\n",
      "Showing array with arr.ndim=3\n"
     ]
    },
    {
     "data": {
      "text/plain": [
       "<Figure size 640x480 with 0 Axes>"
      ]
     },
     "metadata": {},
     "output_type": "display_data"
    },
    {
     "data": {
      "application/vnd.jupyter.widget-view+json": {
       "model_id": "5b0b3992a7c94793b2a7e72aa550cd31",
       "version_major": 2,
       "version_minor": 0
      },
      "text/plain": [
       "interactive(children=(IntSlider(value=19, description='i', max=39), Output()), _dom_classes=('widget-interact'…"
      ]
     },
     "metadata": {},
     "output_type": "display_data"
    },
    {
     "name": "stdout",
     "output_type": "stream",
     "text": [
      "Labels area/perimeter:\n",
      "Showing array with arr.ndim=3\n"
     ]
    },
    {
     "data": {
      "text/plain": [
       "<Figure size 640x480 with 0 Axes>"
      ]
     },
     "metadata": {},
     "output_type": "display_data"
    },
    {
     "data": {
      "application/vnd.jupyter.widget-view+json": {
       "model_id": "5f1df9e38c3f44d5abeff6ccc47ac0ac",
       "version_major": 2,
       "version_minor": 0
      },
      "text/plain": [
       "interactive(children=(IntSlider(value=19, description='i', max=39), Output()), _dom_classes=('widget-interact'…"
      ]
     },
     "metadata": {},
     "output_type": "display_data"
    },
    {
     "name": "stdout",
     "output_type": "stream",
     "text": [
      "Morphological closing:\n",
      "Showing array with arr.ndim=3\n"
     ]
    },
    {
     "data": {
      "text/plain": [
       "<Figure size 640x480 with 0 Axes>"
      ]
     },
     "metadata": {},
     "output_type": "display_data"
    },
    {
     "data": {
      "application/vnd.jupyter.widget-view+json": {
       "model_id": "bdf850fb314a4e678f0544d0957c02c8",
       "version_major": 2,
       "version_minor": 0
      },
      "text/plain": [
       "interactive(children=(IntSlider(value=19, description='i', max=39), Output()), _dom_classes=('widget-interact'…"
      ]
     },
     "metadata": {},
     "output_type": "display_data"
    },
    {
     "name": "stdout",
     "output_type": "stream",
     "text": [
      "Labels bottom 5%:\n",
      "Showing array with arr.ndim=3\n"
     ]
    },
    {
     "data": {
      "text/plain": [
       "<Figure size 640x480 with 0 Axes>"
      ]
     },
     "metadata": {},
     "output_type": "display_data"
    },
    {
     "data": {
      "application/vnd.jupyter.widget-view+json": {
       "model_id": "b4fda4d3c06543a79e3828c3670f36bd",
       "version_major": 2,
       "version_minor": 0
      },
      "text/plain": [
       "interactive(children=(IntSlider(value=19, description='i', max=39), Output()), _dom_classes=('widget-interact'…"
      ]
     },
     "metadata": {},
     "output_type": "display_data"
    },
    {
     "name": "stdout",
     "output_type": "stream",
     "text": [
      "Tendò seleccionat:\n",
      "Showing array with arr.ndim=3\n"
     ]
    },
    {
     "data": {
      "text/plain": [
       "<Figure size 640x480 with 0 Axes>"
      ]
     },
     "metadata": {},
     "output_type": "display_data"
    },
    {
     "data": {
      "application/vnd.jupyter.widget-view+json": {
       "model_id": "9439a8466e944185b8c381baf8d2b7fc",
       "version_major": 2,
       "version_minor": 0
      },
      "text/plain": [
       "interactive(children=(IntSlider(value=19, description='i', max=39), Output()), _dom_classes=('widget-interact'…"
      ]
     },
     "metadata": {},
     "output_type": "display_data"
    },
    {
     "name": "stdout",
     "output_type": "stream",
     "text": [
      "Morphological closing:\n",
      "Showing array with arr.ndim=3\n"
     ]
    },
    {
     "data": {
      "text/plain": [
       "<Figure size 640x480 with 0 Axes>"
      ]
     },
     "metadata": {},
     "output_type": "display_data"
    },
    {
     "data": {
      "application/vnd.jupyter.widget-view+json": {
       "model_id": "8393dacdd59f4b6c93bfa63c79bbe577",
       "version_major": 2,
       "version_minor": 0
      },
      "text/plain": [
       "interactive(children=(IntSlider(value=19, description='i', max=39), Output()), _dom_classes=('widget-interact'…"
      ]
     },
     "metadata": {},
     "output_type": "display_data"
    },
    {
     "name": "stdout",
     "output_type": "stream",
     "text": [
      "Labels stacked:\n",
      "Showing array with arr.ndim=3\n"
     ]
    },
    {
     "data": {
      "text/plain": [
       "<Figure size 640x480 with 0 Axes>"
      ]
     },
     "metadata": {},
     "output_type": "display_data"
    },
    {
     "data": {
      "application/vnd.jupyter.widget-view+json": {
       "model_id": "d15cef44659f49d4a8928915f8431e8d",
       "version_major": 2,
       "version_minor": 0
      },
      "text/plain": [
       "interactive(children=(IntSlider(value=19, description='i', max=39), Output()), _dom_classes=('widget-interact'…"
      ]
     },
     "metadata": {},
     "output_type": "display_data"
    },
    {
     "name": "stdout",
     "output_type": "stream",
     "text": [
      "Bombolles d'aire eliminades:\n",
      "Showing array with arr.ndim=3\n"
     ]
    },
    {
     "data": {
      "text/plain": [
       "<Figure size 640x480 with 0 Axes>"
      ]
     },
     "metadata": {},
     "output_type": "display_data"
    },
    {
     "data": {
      "application/vnd.jupyter.widget-view+json": {
       "model_id": "0229b4bccdb7461e87f6fda05a3bfcd3",
       "version_major": 2,
       "version_minor": 0
      },
      "text/plain": [
       "interactive(children=(IntSlider(value=19, description='i', max=39), Output()), _dom_classes=('widget-interact'…"
      ]
     },
     "metadata": {},
     "output_type": "display_data"
    },
    {
     "data": {
      "application/vnd.jupyter.widget-view+json": {
       "model_id": "63e1f10a7a0b46e5b15d8ebf3b8fb608",
       "version_major": 2,
       "version_minor": 0
      },
      "text/plain": [
       "interactive(children=(Dropdown(description='i', options=(0, 1, 2, 3, 4, 5, 6, 7, 8, 9, 10, 11, 12, 13, 14, 15,…"
      ]
     },
     "metadata": {},
     "output_type": "display_data"
    }
   ],
   "source": [
    "show_4_panel_comp(pato_list[0].images, get_tendon_mask2(pato_list[0].images, True))"
   ]
  },
  {
   "cell_type": "code",
   "execution_count": 59,
   "metadata": {},
   "outputs": [
    {
     "data": {
      "application/vnd.jupyter.widget-view+json": {
       "model_id": "75a35aac33d34520ada3a0757e2a0bf9",
       "version_major": 2,
       "version_minor": 0
      },
      "text/plain": [
       "interactive(children=(Dropdown(description='i', options=(0, 1, 2, 3, 4, 5, 6, 7, 8, 9, 10, 11, 12, 13, 14, 15,…"
      ]
     },
     "metadata": {},
     "output_type": "display_data"
    }
   ],
   "source": [
    "show_4_panel_comp(pato_list[2].images, get_tendon_mask2(pato_list[2].images))"
   ]
  },
  {
   "cell_type": "code",
   "execution_count": 60,
   "metadata": {},
   "outputs": [
    {
     "data": {
      "application/vnd.jupyter.widget-view+json": {
       "model_id": "8abf0b07867a443faa247bbec07f4923",
       "version_major": 2,
       "version_minor": 0
      },
      "text/plain": [
       "interactive(children=(Dropdown(description='i', options=(0, 1, 2, 3, 4, 5, 6, 7, 8, 9, 10, 11, 12, 13, 14, 15,…"
      ]
     },
     "metadata": {},
     "output_type": "display_data"
    }
   ],
   "source": [
    "show_4_panel_comp(pato_list[3].images, get_tendon_mask2(pato_list[3].images))"
   ]
  },
  {
   "attachments": {},
   "cell_type": "markdown",
   "metadata": {},
   "source": [
    "### Pathological asimp"
   ]
  },
  {
   "cell_type": "code",
   "execution_count": 61,
   "metadata": {},
   "outputs": [
    {
     "data": {
      "application/vnd.jupyter.widget-view+json": {
       "model_id": "3b43d530f7db47799813b419263e129f",
       "version_major": 2,
       "version_minor": 0
      },
      "text/plain": [
       "interactive(children=(Dropdown(description='i', options=(0, 1, 2, 3, 4, 5, 6, 7, 8, 9, 10, 11, 12, 13, 14, 15,…"
      ]
     },
     "metadata": {},
     "output_type": "display_data"
    }
   ],
   "source": [
    "show_4_panel_comp(patono_list[0].images, get_tendon_mask2(patono_list[0].images))"
   ]
  },
  {
   "cell_type": "code",
   "execution_count": 32,
   "metadata": {},
   "outputs": [
    {
     "name": "stdout",
     "output_type": "stream",
     "text": [
      "Imatge binaria:\n",
      "Showing array with arr.ndim=3\n"
     ]
    },
    {
     "data": {
      "text/plain": [
       "<Figure size 640x480 with 0 Axes>"
      ]
     },
     "metadata": {},
     "output_type": "display_data"
    },
    {
     "data": {
      "application/vnd.jupyter.widget-view+json": {
       "model_id": "14ce7c7f204945688f106d8dd6b4fea9",
       "version_major": 2,
       "version_minor": 0
      },
      "text/plain": [
       "interactive(children=(IntSlider(value=12, description='i', max=24), Output()), _dom_classes=('widget-interact'…"
      ]
     },
     "metadata": {},
     "output_type": "display_data"
    },
    {
     "name": "stdout",
     "output_type": "stream",
     "text": [
      "Labels:\n",
      "Showing array with arr.ndim=3\n"
     ]
    },
    {
     "data": {
      "text/plain": [
       "<Figure size 640x480 with 0 Axes>"
      ]
     },
     "metadata": {},
     "output_type": "display_data"
    },
    {
     "data": {
      "application/vnd.jupyter.widget-view+json": {
       "model_id": "c5a633b4d50c46a488b04f8fbfb37403",
       "version_major": 2,
       "version_minor": 0
      },
      "text/plain": [
       "interactive(children=(IntSlider(value=12, description='i', max=24), Output()), _dom_classes=('widget-interact'…"
      ]
     },
     "metadata": {},
     "output_type": "display_data"
    },
    {
     "name": "stdout",
     "output_type": "stream",
     "text": [
      "Fons eliminat:\n",
      "Showing array with arr.ndim=3\n"
     ]
    },
    {
     "data": {
      "text/plain": [
       "<Figure size 640x480 with 0 Axes>"
      ]
     },
     "metadata": {},
     "output_type": "display_data"
    },
    {
     "data": {
      "application/vnd.jupyter.widget-view+json": {
       "model_id": "d9bfe83323d0487bbbe1f37875e1ac8e",
       "version_major": 2,
       "version_minor": 0
      },
      "text/plain": [
       "interactive(children=(IntSlider(value=12, description='i', max=24), Output()), _dom_classes=('widget-interact'…"
      ]
     },
     "metadata": {},
     "output_type": "display_data"
    },
    {
     "name": "stdout",
     "output_type": "stream",
     "text": [
      "Morphological closing:\n",
      "Showing array with arr.ndim=3\n"
     ]
    },
    {
     "data": {
      "text/plain": [
       "<Figure size 640x480 with 0 Axes>"
      ]
     },
     "metadata": {},
     "output_type": "display_data"
    },
    {
     "data": {
      "application/vnd.jupyter.widget-view+json": {
       "model_id": "2419f7d7e7cf498e8cc428315f970f70",
       "version_major": 2,
       "version_minor": 0
      },
      "text/plain": [
       "interactive(children=(IntSlider(value=12, description='i', max=24), Output()), _dom_classes=('widget-interact'…"
      ]
     },
     "metadata": {},
     "output_type": "display_data"
    },
    {
     "name": "stdout",
     "output_type": "stream",
     "text": [
      "Labels stacked:\n",
      "Showing array with arr.ndim=3\n"
     ]
    },
    {
     "data": {
      "text/plain": [
       "<Figure size 640x480 with 0 Axes>"
      ]
     },
     "metadata": {},
     "output_type": "display_data"
    },
    {
     "data": {
      "application/vnd.jupyter.widget-view+json": {
       "model_id": "505d4641492643d28484081345dd4765",
       "version_major": 2,
       "version_minor": 0
      },
      "text/plain": [
       "interactive(children=(IntSlider(value=12, description='i', max=24), Output()), _dom_classes=('widget-interact'…"
      ]
     },
     "metadata": {},
     "output_type": "display_data"
    },
    {
     "name": "stdout",
     "output_type": "stream",
     "text": [
      "Small filtered:\n",
      "Showing array with arr.ndim=3\n"
     ]
    },
    {
     "data": {
      "text/plain": [
       "<Figure size 640x480 with 0 Axes>"
      ]
     },
     "metadata": {},
     "output_type": "display_data"
    },
    {
     "data": {
      "application/vnd.jupyter.widget-view+json": {
       "model_id": "57db52e5d3db479288340848957ff910",
       "version_major": 2,
       "version_minor": 0
      },
      "text/plain": [
       "interactive(children=(IntSlider(value=12, description='i', max=24), Output()), _dom_classes=('widget-interact'…"
      ]
     },
     "metadata": {},
     "output_type": "display_data"
    },
    {
     "name": "stdout",
     "output_type": "stream",
     "text": [
      "Labels area/perimeter:\n",
      "Showing array with arr.ndim=3\n"
     ]
    },
    {
     "data": {
      "text/plain": [
       "<Figure size 640x480 with 0 Axes>"
      ]
     },
     "metadata": {},
     "output_type": "display_data"
    },
    {
     "data": {
      "application/vnd.jupyter.widget-view+json": {
       "model_id": "aba8bc7e4a84438997ecee80d8f712ad",
       "version_major": 2,
       "version_minor": 0
      },
      "text/plain": [
       "interactive(children=(IntSlider(value=12, description='i', max=24), Output()), _dom_classes=('widget-interact'…"
      ]
     },
     "metadata": {},
     "output_type": "display_data"
    },
    {
     "name": "stdout",
     "output_type": "stream",
     "text": [
      "Labels bottom 5%:\n",
      "Showing array with arr.ndim=3\n"
     ]
    },
    {
     "data": {
      "text/plain": [
       "<Figure size 640x480 with 0 Axes>"
      ]
     },
     "metadata": {},
     "output_type": "display_data"
    },
    {
     "data": {
      "application/vnd.jupyter.widget-view+json": {
       "model_id": "4f4908f8f2b64862826feb0741d9d625",
       "version_major": 2,
       "version_minor": 0
      },
      "text/plain": [
       "interactive(children=(IntSlider(value=12, description='i', max=24), Output()), _dom_classes=('widget-interact'…"
      ]
     },
     "metadata": {},
     "output_type": "display_data"
    },
    {
     "name": "stdout",
     "output_type": "stream",
     "text": [
      "Tendò seleccionat:\n",
      "Showing array with arr.ndim=3\n"
     ]
    },
    {
     "data": {
      "text/plain": [
       "<Figure size 640x480 with 0 Axes>"
      ]
     },
     "metadata": {},
     "output_type": "display_data"
    },
    {
     "data": {
      "application/vnd.jupyter.widget-view+json": {
       "model_id": "1474035b5a04478fad1c77b4f67fbd3e",
       "version_major": 2,
       "version_minor": 0
      },
      "text/plain": [
       "interactive(children=(IntSlider(value=12, description='i', max=24), Output()), _dom_classes=('widget-interact'…"
      ]
     },
     "metadata": {},
     "output_type": "display_data"
    },
    {
     "name": "stdout",
     "output_type": "stream",
     "text": [
      "Morphological closing:\n",
      "Showing array with arr.ndim=3\n"
     ]
    },
    {
     "data": {
      "text/plain": [
       "<Figure size 640x480 with 0 Axes>"
      ]
     },
     "metadata": {},
     "output_type": "display_data"
    },
    {
     "data": {
      "application/vnd.jupyter.widget-view+json": {
       "model_id": "21b65dceaa394bd7b7c9b0fa9452bd6c",
       "version_major": 2,
       "version_minor": 0
      },
      "text/plain": [
       "interactive(children=(IntSlider(value=12, description='i', max=24), Output()), _dom_classes=('widget-interact'…"
      ]
     },
     "metadata": {},
     "output_type": "display_data"
    },
    {
     "name": "stdout",
     "output_type": "stream",
     "text": [
      "Labels stacked:\n",
      "Showing array with arr.ndim=3\n"
     ]
    },
    {
     "data": {
      "text/plain": [
       "<Figure size 640x480 with 0 Axes>"
      ]
     },
     "metadata": {},
     "output_type": "display_data"
    },
    {
     "data": {
      "application/vnd.jupyter.widget-view+json": {
       "model_id": "e1191e629bfb4d66996aecc5169d8b28",
       "version_major": 2,
       "version_minor": 0
      },
      "text/plain": [
       "interactive(children=(IntSlider(value=12, description='i', max=24), Output()), _dom_classes=('widget-interact'…"
      ]
     },
     "metadata": {},
     "output_type": "display_data"
    },
    {
     "name": "stdout",
     "output_type": "stream",
     "text": [
      "Bombolles d'aire eliminades:\n",
      "Showing array with arr.ndim=3\n"
     ]
    },
    {
     "data": {
      "text/plain": [
       "<Figure size 640x480 with 0 Axes>"
      ]
     },
     "metadata": {},
     "output_type": "display_data"
    },
    {
     "data": {
      "application/vnd.jupyter.widget-view+json": {
       "model_id": "02d02ef5b35b4a36a49f515ee9042cae",
       "version_major": 2,
       "version_minor": 0
      },
      "text/plain": [
       "interactive(children=(IntSlider(value=12, description='i', max=24), Output()), _dom_classes=('widget-interact'…"
      ]
     },
     "metadata": {},
     "output_type": "display_data"
    },
    {
     "data": {
      "application/vnd.jupyter.widget-view+json": {
       "model_id": "94d8c1ea2e3146b795adb45e29cae5a8",
       "version_major": 2,
       "version_minor": 0
      },
      "text/plain": [
       "interactive(children=(Dropdown(description='i', options=(0, 1, 2, 3, 4, 5, 6, 7, 8, 9, 10, 11, 12, 13, 14, 15,…"
      ]
     },
     "metadata": {},
     "output_type": "display_data"
    }
   ],
   "source": [
    "show_4_panel_comp(patono_list[1].images, get_tendon_mask2(patono_list[1].images, True))"
   ]
  },
  {
   "cell_type": "code",
   "execution_count": 36,
   "metadata": {},
   "outputs": [
    {
     "data": {
      "application/vnd.jupyter.widget-view+json": {
       "model_id": "ef21e0bb96e14899af6cd9a25c8bb6f0",
       "version_major": 2,
       "version_minor": 0
      },
      "text/plain": [
       "interactive(children=(Dropdown(description='i', options=(0, 1, 2, 3, 4, 5, 6, 7, 8, 9, 10, 11, 12, 13, 14, 15,…"
      ]
     },
     "metadata": {},
     "output_type": "display_data"
    }
   ],
   "source": [
    "show_4_panel_comp(patono_list[2].images, get_tendon_mask2(patono_list[2].images))"
   ]
  },
  {
   "attachments": {},
   "cell_type": "markdown",
   "metadata": {},
   "source": [
    "### Generate all masks and comparision"
   ]
  },
  {
   "cell_type": "code",
   "execution_count": 51,
   "metadata": {},
   "outputs": [],
   "source": [
    "def save_4_panel_comp(name, patient_imgs: np.ndarray, mask_arr: np.ndarray, **kwargs):\n",
    "    if patient_imgs.ndim != 3:\n",
    "        patient_imgs = patient_imgs.reshape((1, patient_imgs.shape[0], patient_imgs.shape[1]))\n",
    "    \n",
    "    for i in range(len(patient_imgs)):\n",
    "        maskedimg = apply_mask(patient_imgs[i], mask_arr[i])\n",
    "        inverseimg = apply_mask(patient_imgs[i], mask_arr[i], 1)\n",
    "\n",
    "        palette = plt.cm.bone\n",
    "        palette.set_bad(\"orchid\")\n",
    "\n",
    "        fig, axs = plt.subplots(2,2)\n",
    "        fig.set_size_inches(10, 10)\n",
    "        axs[0,0].imshow(patient_imgs[i], cmap=palette, interpolation=\"none\")\n",
    "        axs[0,0].axis(False)\n",
    "\n",
    "        axs[0,1].imshow(mask_arr[i], cmap=plt.cm.bone, interpolation=\"none\")\n",
    "        axs[0,1].axis(False)\n",
    "\n",
    "        axs[1,0].imshow(maskedimg, cmap=palette, interpolation=\"none\")\n",
    "        axs[1,0].axis(False)\n",
    "\n",
    "        axs[1,1].imshow(inverseimg, cmap=palette, interpolation=\"none\")\n",
    "        axs[1,1].axis(False)\n",
    "        fig.savefig(f\"comparisions/panels_{name}_{i}.png\")\n",
    "        plt.close(fig)"
   ]
  },
  {
   "cell_type": "code",
   "execution_count": null,
   "metadata": {},
   "outputs": [],
   "source": [
    "for i,patient in enumerate(normal_list + pato_list + patono_list):\n",
    "    save_4_panel_comp(str(i), patient.images[10:], get_tendon_mask2(patient.images[10:]))"
   ]
  },
  {
   "attachments": {},
   "cell_type": "markdown",
   "metadata": {},
   "source": [
    "## 3D representation"
   ]
  },
  {
   "cell_type": "code",
   "execution_count": 129,
   "metadata": {},
   "outputs": [],
   "source": [
    "patient_mask = get_tendon_mask2(normal_list[0].images)"
   ]
  },
  {
   "cell_type": "code",
   "execution_count": 130,
   "metadata": {},
   "outputs": [
    {
     "data": {
      "image/png": "[encoded data removed]",
      "text/plain": [
       "<Figure size 1000x1000 with 1 Axes>"
      ]
     },
     "metadata": {},
     "output_type": "display_data"
    }
   ],
   "source": [
    "from mpl_toolkits.mplot3d.art3d import Poly3DCollection\n",
    "\n",
    "def plot_3d(image):\n",
    "    \n",
    "    # Position the scan upright, \n",
    "    # so the head of the patient would be at the top facing the   \n",
    "    # camera\n",
    "    p = image.transpose(2,1,0)\n",
    "    \n",
    "    verts, faces, _, _ = measure.marching_cubes(p)\n",
    "    fig = plt.figure(figsize=(10, 10))\n",
    "    ax = fig.add_subplot(projection='3d')\n",
    "    # Fancy indexing: `verts[faces]` to generate a collection of    \n",
    "    # triangles\n",
    "    mesh = Poly3DCollection(verts[faces], alpha=0.70)\n",
    "    face_color = [0.45, 0.45, 0.75]\n",
    "    mesh.set_facecolor(face_color)\n",
    "    ax.add_collection3d(mesh)\n",
    "    ax.set_xlim(0, p.shape[0])\n",
    "    ax.set_ylim(0, p.shape[1])\n",
    "    ax.set_zlim(0, p.shape[2])\n",
    "    return fig, ax\n",
    "\n",
    "plot_3d(patient_mask)\n",
    "plt.show()"
   ]
  },
  {
   "cell_type": "code",
   "execution_count": null,
   "metadata": {},
   "outputs": [],
   "source": [
    "# Interactive\n",
    "import ipyvolume as ipv\n",
    "\n",
    "p = patient_mask.transpose(2,0,1)\n",
    "verts, faces, _, _ = measure.marching_cubes(p)\n",
    "ipv.figure()\n",
    "mesh = ipv.plot_trisurf(verts[:,0], verts[:,1], verts[:,2], faces, color='cyan')\n",
    "mesh.color = [0.2, 0.2, 1.5, 0.5]\n",
    "mesh.material.transparent = True\n",
    "ipv.show()\n",
    "\n",
    "ipv.save(\"patient1.html\", offline=True)"
   ]
  },
  {
   "attachments": {},
   "cell_type": "markdown",
   "metadata": {},
   "source": [
    "## Validation of classical image processing method with manually labelled images"
   ]
  },
  {
   "cell_type": "code",
   "execution_count": 97,
   "metadata": {},
   "outputs": [],
   "source": [
    "def get_values(y_true, y_pred):\n",
    "    \"\"\"# True Positives\n",
    "    tp = np.sum(np.logical_and(y_pred == 1, y_true == 1))\n",
    "    # True Negatives\n",
    "    tn = np.sum(np.logical_and(y_pred == 0, y_true == 0))\n",
    "    # False Positives\n",
    "    fp = np.sum(np.logical_and(y_pred == 1, y_true == 0))\n",
    "    # False Negatives\n",
    "    fn = np.sum(np.logical_and(y_pred == 0, y_true == 1))\n",
    "    return tn, fp, fn, tp\"\"\"\n",
    "\n",
    "    tp = np.sum((y_pred == 1) & (y_true == 1))\n",
    "    tn = np.sum((y_pred == 0) & (y_true == 0))\n",
    "    fp = np.sum((y_pred == 1) & (y_true == 0))\n",
    "    fn = np.sum((y_pred == 0) & (y_true == 1))\n",
    "    return tn, fp, fn, tp\n",
    "\n",
    "\n",
    "\n",
    "def sensitivity(y_true, y_pred, epsilon=1e-20):\n",
    "    tn, fp, fn, tp = get_values(y_true, y_pred)\n",
    "    res = (tp) / (tp + fn + epsilon)\n",
    "    return res\n",
    "\n",
    "\n",
    "def specificity(y_true , y_pred, epsilon=1e-20):\n",
    "    tn, fp, _, _ = get_values(y_true, y_pred)\n",
    "    res = (tn)/(tn+fp+epsilon)\n",
    "    return res\n",
    "\n",
    "def accuracy(y_true, y_pred, epsilon=1e-20):\n",
    "    tn, fp, fn, tp = get_values(y_true, y_pred)\n",
    "    res = (tp+tn)/(tp+fp+tn+fn+epsilon)\n",
    "    return res\n",
    "\n",
    "def jaccard(y_true, y_pred):\n",
    "    tn, fp, fn, tp = get_values(y_true, y_pred)\n",
    "    return (tp)/(tp+fp+fn)\n",
    "\n",
    "def dice_coef(y_true, y_pred, epsilon=1e-20):\n",
    "    _ , fp, fn, tp = get_values(y_true, y_pred)\n",
    "    res = (2*tp)/(2*tp+fp+fn+epsilon)\n",
    "    return res\n",
    "\n",
    "def precision(y_true, y_pred, epsilon=1e-20):\n",
    "  tn, fp, fn, tp = get_values(y_true, y_pred)\n",
    "  res = tp/(tp+fp+epsilon)\n",
    "  return res\n",
    "\n",
    "def iou_metric(y_true: np.array, y_preds: np.array, epsilon=1e-6):\n",
    "    \n",
    "    intersection = ((y_preds == 1) & (y_true == 1)).sum()\n",
    "    union = ((y_preds == 1) | (y_true == 1)).sum()\n",
    "    \n",
    "    iou = (intersection + epsilon) / (union + epsilon)\n",
    "    \n",
    "    return iou"
   ]
  },
  {
   "cell_type": "code",
   "execution_count": 54,
   "metadata": {},
   "outputs": [],
   "source": [
    "from PIL import Image\n",
    "from pathlib import Path\n",
    "\n",
    "images_path = Path(\"labelled_data\") / \"content\"\n",
    "normal_folder = r\"normals\"\n",
    "asimp_folder = r\"asimpt\"\n",
    "pato_folder = r\"simpt\"\n",
    "\n",
    "normal_list = [plt.imread(images_path / normal_folder / f\"{i}.png\")[:,:,0] for i in range(len(os.listdir(images_path / normal_folder)))]\n",
    "asimp_list = [plt.imread(images_path / asimp_folder / f\"{i}.png\")[:,:,0] for i in range(len(os.listdir(images_path / asimp_folder)))]\n",
    "pato_list = [plt.imread(images_path / pato_folder / f\"{i}.png\")[:,:,0] for i in range(len(os.listdir(images_path / pato_folder)))]"
   ]
  },
  {
   "cell_type": "code",
   "execution_count": 55,
   "metadata": {},
   "outputs": [
    {
     "name": "stdout",
     "output_type": "stream",
     "text": [
      "416\n",
      "157\n",
      "184\n"
     ]
    }
   ],
   "source": [
    "print(len(normal_list))\n",
    "print(len(asimp_list))\n",
    "print(len(pato_list))"
   ]
  },
  {
   "cell_type": "code",
   "execution_count": 100,
   "metadata": {},
   "outputs": [
    {
     "data": {
      "text/plain": [
       "757"
      ]
     },
     "execution_count": 100,
     "metadata": {},
     "output_type": "execute_result"
    }
   ],
   "source": [
    "416 +157 +184"
   ]
  },
  {
   "cell_type": "code",
   "execution_count": 59,
   "metadata": {},
   "outputs": [],
   "source": [
    "normal_mask_folder = r\"mask_normals\"\n",
    "asimp_mask_folder = r\"mask_asimpt\"\n",
    "pato_mask_folder = r\"mask_simpt\"\n",
    "\n",
    "normal_mask_list = [plt.imread(images_path / normal_mask_folder / f\"{i}.png\")[:,:,0] for i in range(len(os.listdir(images_path / normal_mask_folder)))]\n",
    "asimp_mask_list = [plt.imread(images_path / asimp_mask_folder / f\"{i}.png\")[:,:,0] for i in range(len(os.listdir(images_path / asimp_mask_folder)))]\n",
    "pato_mask_list = [plt.imread(images_path / pato_mask_folder / f\"{i}.png\")[:,:,0] for i in range(len(os.listdir(images_path / pato_mask_folder)))]"
   ]
  },
  {
   "cell_type": "code",
   "execution_count": 60,
   "metadata": {},
   "outputs": [
    {
     "name": "stdout",
     "output_type": "stream",
     "text": [
      "416\n",
      "157\n",
      "184\n"
     ]
    }
   ],
   "source": [
    "print(len(normal_mask_list))\n",
    "print(len(asimp_mask_list))\n",
    "print(len(pato_mask_list))"
   ]
  },
  {
   "cell_type": "code",
   "execution_count": 99,
   "metadata": {},
   "outputs": [
    {
     "name": "stdout",
     "output_type": "stream",
     "text": [
      "Sensitivity (normal): 0.8686708670291103\n",
      "Specificity (normal): 0.9995733207210418\n",
      "Accuracy (normal): 0.9990752809611899\n",
      "jaccard (normal): 0.8159809275275666\n",
      "dice_val (normal): 0.8685231496057053\n",
      "precision (normal): 0.8736857902758838\n",
      "iou (normal): 0.8159809275834606\n",
      "Sensitivity (asimp): 0.9163539438133488\n",
      "Specificity (asimp): 0.9996938737707928\n",
      "Accuracy (asimp): 0.999330577651952\n",
      "jaccard (asimp): 0.8589288325088491\n",
      "dice_val (asimp): 0.9171057800616721\n",
      "precision (asimp): 0.9227978048448567\n",
      "iou (asimp): 0.858928832549973\n",
      "Sensitivity (patho): 0.8463079509076279\n",
      "Specificity (patho): 0.9997426666076304\n",
      "Accuracy (patho): 0.9986706787538836\n",
      "jaccard (patho): 0.8112650184394793\n",
      "dice_val (patho): 0.8642608131928313\n",
      "precision (patho): 0.8998609062061785\n",
      "iou (patho): 0.811265018487907\n",
      "Sensitivity (total): 0.8731245876219403\n",
      "Specificity (total): 0.9996394851489723\n",
      "Accuracy (total): 0.9990298843618578\n",
      "jaccard (total): 0.8237419497334487\n",
      "dice_val (total): 0.877563047996218\n",
      "precision (total): 0.8902337527838144\n",
      "iou (total): 0.8237419497844655\n"
     ]
    },
    {
     "data": {
      "image/png": "[encoded data removed]",
      "text/plain": [
       "<Figure size 640x480 with 1 Axes>"
      ]
     },
     "metadata": {},
     "output_type": "display_data"
    }
   ],
   "source": [
    "sensitivity_val_tot = 0\n",
    "accuracy_val_tot = 0\n",
    "specificity_val_tot = 0\n",
    "jaccard_val_tot = 0\n",
    "dice_val_tot = 0\n",
    "precision_val_tot = 0\n",
    "iou_val_tot = 0\n",
    "\n",
    "for image_list, image_mask_list, group_name in zip([normal_list, asimp_list, pato_list], [normal_mask_list, asimp_mask_list, pato_mask_list], [\"normal\", \"asimp\", \"patho\"]):\n",
    "    sensitivity_val = 0\n",
    "    accuracy_val = 0\n",
    "    specificity_val = 0\n",
    "    jaccard_val = 0\n",
    "    dice_val = 0\n",
    "    precision_val = 0\n",
    "    iou_val = 0\n",
    "\n",
    "    for slice,label in zip(image_list, image_mask_list):\n",
    "        plt.imshow(slice)\n",
    "        prediction = get_tendon_mask2(slice) \n",
    "\n",
    "        sens = sensitivity(label, prediction)\n",
    "        sensitivity_val += sens\n",
    "        sensitivity_val_tot += sens\n",
    "\n",
    "        spec = specificity(label, prediction)\n",
    "        specificity_val += spec\n",
    "        specificity_val_tot += spec\n",
    "\n",
    "        acc = accuracy(label, prediction)\n",
    "        accuracy_val += acc\n",
    "        accuracy_val_tot += acc\n",
    "\n",
    "        jacc = jaccard(label,prediction)\n",
    "        jaccard_val += jacc\n",
    "        jaccard_val_tot += jacc\n",
    "\n",
    "        dice = dice_coef(label, prediction)\n",
    "        dice_val += dice\n",
    "        dice_val_tot += dice\n",
    "\n",
    "        prec = precision(label, prediction)\n",
    "        precision_val += prec\n",
    "        precision_val_tot += prec\n",
    "\n",
    "        iou = iou_metric(label, prediction)\n",
    "        iou_val += iou\n",
    "        iou_val_tot += iou\n",
    "    print(f\"Sensitivity ({group_name}):\", sensitivity_val/len(image_list))\n",
    "    print(f\"Specificity ({group_name}):\", specificity_val/len(image_list))\n",
    "    print(f\"Accuracy ({group_name}):\", accuracy_val/len(image_list))\n",
    "    print(f\"jaccard ({group_name}):\", jaccard_val/len(image_list))\n",
    "    print(f\"dice_val ({group_name}):\", dice_val/len(image_list))\n",
    "    print(f'precision ({group_name}):', precision_val/(len(image_list)))\n",
    "    print(f\"iou ({group_name}):\", iou_val/len(image_list))\n",
    "\n",
    "total_images = len(normal_list) + len(asimp_list) + len(pato_list)\n",
    "print(f\"Sensitivity (total):\", sensitivity_val_tot/total_images)\n",
    "print(f\"Specificity (total):\", specificity_val_tot/total_images)\n",
    "print(f\"Accuracy (total):\", accuracy_val_tot/total_images)\n",
    "print(f\"jaccard (total):\", jaccard_val_tot/total_images)\n",
    "print(f\"dice_val (total):\", dice_val_tot/total_images)\n",
    "print(f'precision (total):', precision_val_tot/total_images)\n",
    "print(f\"iou (total):\", iou_val_tot/total_images)"
   ]
  },
  {
   "attachments": {},
   "cell_type": "markdown",
   "metadata": {},
   "source": [
    "# Dataset creation"
   ]
  },
  {
   "cell_type": "code",
   "execution_count": 40,
   "metadata": {},
   "outputs": [],
   "source": [
    "from sklearn.model_selection import train_test_split\n",
    "from PIL import Image\n",
    "import cv2\n",
    "import os\n",
    "from pathlib import Path\n",
    "\n",
    "def get_label_strings(patient, min_slice):\n",
    "    masks = get_tendon_mask2(patient.images[min_slice:])\n",
    "\n",
    "    labels = []\n",
    "    for slice in np.uint8(masks):\n",
    "        conts, _ = cv2.findContours(slice, cv2.RETR_EXTERNAL, cv2.CHAIN_APPROX_SIMPLE)\n",
    "        \n",
    "        label_line = '0 ' + ' '.join([f'{int(point[0][0])/slice.shape[0]} {int(point[0][1])/slice.shape[1]}' for point in conts[0]])\n",
    "        labels.append(label_line)\n",
    "    return labels\n",
    "\n",
    "def include_with_labels(patients, split_str, min_slice, imgsize):\n",
    "    for i, patient in enumerate(patients):\n",
    "        diffx = patient.images.shape[1] - imgsize\n",
    "        diffy = patient.images.shape[2] - imgsize\n",
    "        if diffx < 0:\n",
    "            patient.images = np.pad(patient.images, [(0, 0), (0, -diffx), (0, 0)])\n",
    "        if diffy < 0:\n",
    "            patient.images = np.pad(patient.images, [(0, 0), (0, 0), (0, -diffy)])\n",
    "        if diffx > 0:\n",
    "            patient.images = patient.images[ : , diffx:, :]\n",
    "        if diffy > 0:\n",
    "            patient.images = patient.images[ : , : , diffy:]\n",
    "\n",
    "        labels = get_label_strings(patient, min_slice)\n",
    "        path = Path(f\"dataset/{split_str}/images\")\n",
    "        path.mkdir(parents=True, exist_ok=True)\n",
    "        path = Path(f\"dataset/{split_str}/labels\")\n",
    "        path.mkdir(parents=True, exist_ok=True)\n",
    "        for j, slice in enumerate(patient.images[min_slice:]): # We will not use the first {min_slice} slices since they usually don't show any tendon\n",
    "            im = Image.fromarray(slice)\n",
    "            im.save(f\"dataset/{split_str}/images/img_{i}_{j}.png\")\n",
    "\n",
    "            with open(f\"dataset/{split_str}/labels/img_{i}_{j}.txt\", \"w\") as f:\n",
    "                f.write(labels[j])\n",
    "\n",
    "def create_dataset(normal_patients, asimp_patients, pato_patients, min_slice, imgsize):\n",
    "    normal_train, normal_rem = train_test_split(normal_patients, train_size=0.8)\n",
    "    asimp_train, asimp_rem = train_test_split(asimp_patients, train_size=0.8)\n",
    "    pato_train, pato_rem = train_test_split(pato_patients, train_size=0.8)\n",
    "\n",
    "    include_with_labels(normal_train + asimp_train + pato_train, \"train\", min_slice, imgsize)\n",
    "    \n",
    "    normal_test, normal_val = train_test_split(normal_rem, train_size=0.5)\n",
    "    asimp_test, asimp_val = train_test_split(asimp_rem, train_size=0.5)\n",
    "    pato_test, pato_val = train_test_split(pato_rem, train_size=0.5)\n",
    "\n",
    "    include_with_labels(normal_test + asimp_test + pato_test, \"test\", min_slice, imgsize)\n",
    "\n",
    "    include_with_labels(normal_val + asimp_val + pato_val, \"val\", min_slice, imgsize)\n",
    "\n",
    "create_dataset(normal_list, patono_list, pato_list, 10, 896)"
   ]
  },
  {
   "attachments": {},
   "cell_type": "markdown",
   "metadata": {},
   "source": [
    "# Train"
   ]
  },
  {
   "cell_type": "code",
   "execution_count": 43,
   "metadata": {},
   "outputs": [
    {
     "name": "stderr",
     "output_type": "stream",
     "text": [
      "Ultralytics YOLOv8.0.121  Python-3.11.3 torch-2.0.1+cu118 CUDA:0 (NVIDIA GeForce GTX 1060 6GB, 6144MiB)\n",
      "\u001b[34m\u001b[1myolo\\engine\\trainer: \u001b[0mtask=segment, mode=train, model=yolov8s-seg.pt, data=tendons.yaml, epochs=100, patience=50, batch=8, imgsz=896, save=True, save_period=-1, cache=False, device=None, workers=8, project=None, name=None, exist_ok=False, pretrained=True, optimizer=auto, verbose=True, seed=0, deterministic=True, single_cls=False, rect=False, cos_lr=False, close_mosaic=0, resume=False, amp=True, fraction=1.0, profile=False, overlap_mask=True, mask_ratio=4, dropout=0.0, val=True, split=val, save_json=False, save_hybrid=False, conf=None, iou=0.7, max_det=300, half=False, dnn=False, plots=True, source=None, show=False, save_txt=False, save_conf=False, save_crop=False, show_labels=True, show_conf=True, vid_stride=1, line_width=None, visualize=False, augment=False, agnostic_nms=False, classes=None, retina_masks=False, boxes=True, format=torchscript, keras=False, optimize=False, int8=False, dynamic=False, simplify=False, opset=None, workspace=4, nms=False, lr0=0.01, lrf=0.01, momentum=0.937, weight_decay=0.0005, warmup_epochs=3.0, warmup_momentum=0.8, warmup_bias_lr=0.1, box=7.5, cls=0.5, dfl=1.5, pose=12.0, kobj=1.0, label_smoothing=0.0, nbs=64, hsv_h=0.015, hsv_s=0.7, hsv_v=0.4, degrees=0.0, translate=0.1, scale=0.5, shear=0.0, perspective=0.0, flipud=0.0, fliplr=0.5, mosaic=1.0, mixup=0.0, copy_paste=0.0, cfg=None, v5loader=False, tracker=botsort.yaml, save_dir=runs\\segment\\train4\n",
      "Overriding model.yaml nc=80 with nc=1\n",
      "\n",
      "                   from  n    params  module                                       arguments                     \n",
      "  0                  -1  1       928  ultralytics.nn.modules.conv.Conv             [3, 32, 3, 2]                 \n",
      "  1                  -1  1     18560  ultralytics.nn.modules.conv.Conv             [32, 64, 3, 2]                \n",
      "  2                  -1  1     29056  ultralytics.nn.modules.block.C2f             [64, 64, 1, True]             \n",
      "  3                  -1  1     73984  ultralytics.nn.modules.conv.Conv             [64, 128, 3, 2]               \n",
      "  4                  -1  2    197632  ultralytics.nn.modules.block.C2f             [128, 128, 2, True]           \n",
      "  5                  -1  1    295424  ultralytics.nn.modules.conv.Conv             [128, 256, 3, 2]              \n",
      "  6                  -1  2    788480  ultralytics.nn.modules.block.C2f             [256, 256, 2, True]           \n",
      "  7                  -1  1   1180672  ultralytics.nn.modules.conv.Conv             [256, 512, 3, 2]              \n",
      "  8                  -1  1   1838080  ultralytics.nn.modules.block.C2f             [512, 512, 1, True]           \n",
      "  9                  -1  1    656896  ultralytics.nn.modules.block.SPPF            [512, 512, 5]                 \n",
      " 10                  -1  1         0  torch.nn.modules.upsampling.Upsample         [None, 2, 'nearest']          \n",
      " 11             [-1, 6]  1         0  ultralytics.nn.modules.conv.Concat           [1]                           \n",
      " 12                  -1  1    591360  ultralytics.nn.modules.block.C2f             [768, 256, 1]                 \n",
      " 13                  -1  1         0  torch.nn.modules.upsampling.Upsample         [None, 2, 'nearest']          \n",
      " 14             [-1, 4]  1         0  ultralytics.nn.modules.conv.Concat           [1]                           \n",
      " 15                  -1  1    148224  ultralytics.nn.modules.block.C2f             [384, 128, 1]                 \n",
      " 16                  -1  1    147712  ultralytics.nn.modules.conv.Conv             [128, 128, 3, 2]              \n",
      " 17            [-1, 12]  1         0  ultralytics.nn.modules.conv.Concat           [1]                           \n",
      " 18                  -1  1    493056  ultralytics.nn.modules.block.C2f             [384, 256, 1]                 \n",
      " 19                  -1  1    590336  ultralytics.nn.modules.conv.Conv             [256, 256, 3, 2]              \n",
      " 20             [-1, 9]  1         0  ultralytics.nn.modules.conv.Concat           [1]                           \n",
      " 21                  -1  1   1969152  ultralytics.nn.modules.block.C2f             [768, 512, 1]                 \n",
      " 22        [15, 18, 21]  1   2770931  ultralytics.nn.modules.head.Segment          [1, 32, 128, [128, 256, 512]] \n",
      "YOLOv8s-seg summary: 261 layers, 11790483 parameters, 11790467 gradients\n",
      "\n",
      "Transferred 411/417 items from pretrained weights\n",
      "\u001b[34m\u001b[1mAMP: \u001b[0mrunning Automatic Mixed Precision (AMP) checks with YOLOv8n...\n",
      "\u001b[34m\u001b[1mAMP: \u001b[0mchecks passed \n",
      "\u001b[34m\u001b[1mtrain: \u001b[0mScanning C:\\Users\\Goyo\\Desktop\\Goio\\TFG Mates\\dataset\\train\\labels... 942 images, 0 backgrounds, 0 corrupt: 100%|██████████| 942/942 [00:03<00:00, 283.22it/s]\n",
      "\u001b[34m\u001b[1mtrain: \u001b[0mNew cache created: C:\\Users\\Goyo\\Desktop\\Goio\\TFG Mates\\dataset\\train\\labels.cache\n",
      "\u001b[34m\u001b[1mval: \u001b[0mScanning C:\\Users\\Goyo\\Desktop\\Goio\\TFG Mates\\dataset\\val\\labels... 116 images, 0 backgrounds, 0 corrupt: 100%|██████████| 116/116 [00:01<00:00, 95.95it/s] \n",
      "\u001b[34m\u001b[1mval: \u001b[0mNew cache created: C:\\Users\\Goyo\\Desktop\\Goio\\TFG Mates\\dataset\\val\\labels.cache\n",
      "Plotting labels to runs\\segment\\train4\\labels.jpg... \n",
      "\u001b[34m\u001b[1moptimizer:\u001b[0m AdamW(lr=0.002, momentum=0.9) with parameter groups 66 weight(decay=0.0), 77 weight(decay=0.0005), 76 bias(decay=0.0)\n",
      "Image sizes 896 train, 896 val\n",
      "Using 4 dataloader workers\n",
      "Logging results to \u001b[1mruns\\segment\\train4\u001b[0m\n",
      "Starting training for 100 epochs...\n",
      "\n",
      "      Epoch    GPU_mem   box_loss   seg_loss   cls_loss   dfl_loss  Instances       Size\n",
      "      1/100      7.18G      1.044      1.207      3.646      1.035          8        896: 100%|██████████| 118/118 [04:36<00:00,  2.35s/it]\n",
      "                 Class     Images  Instances      Box(P          R      mAP50  mAP50-95)     Mask(P          R      mAP50  mAP50-95): 100%|██████████| 8/8 [00:18<00:00,  2.34s/it]\n",
      "                   all        116        116      0.868      0.851      0.856      0.686      0.877       0.86      0.858      0.704\n",
      "\n",
      "      Epoch    GPU_mem   box_loss   seg_loss   cls_loss   dfl_loss  Instances       Size\n",
      "      2/100      5.43G      1.036     0.7622      1.222      1.014          8        896: 100%|██████████| 118/118 [02:22<00:00,  1.21s/it]\n",
      "                 Class     Images  Instances      Box(P          R      mAP50  mAP50-95)     Mask(P          R      mAP50  mAP50-95): 100%|██████████| 8/8 [00:13<00:00,  1.73s/it]\n",
      "                   all        116        116      0.903      0.914      0.907      0.703      0.903      0.914      0.907       0.77\n",
      "\n",
      "      Epoch    GPU_mem   box_loss   seg_loss   cls_loss   dfl_loss  Instances       Size\n",
      "      3/100      5.54G      1.091     0.8394      1.287      1.048         12        896: 100%|██████████| 118/118 [02:14<00:00,  1.14s/it]\n",
      "                 Class     Images  Instances      Box(P          R      mAP50  mAP50-95)     Mask(P          R      mAP50  mAP50-95): 100%|██████████| 8/8 [00:15<00:00,  1.97s/it]\n",
      "                   all        116        116      0.912      0.894      0.876      0.673      0.912      0.894      0.878      0.712\n",
      "\n",
      "      Epoch    GPU_mem   box_loss   seg_loss   cls_loss   dfl_loss  Instances       Size\n",
      "      4/100      7.27G      0.946     0.7844     0.9967     0.9863          9        896: 100%|██████████| 118/118 [02:56<00:00,  1.49s/it]\n",
      "                 Class     Images  Instances      Box(P          R      mAP50  mAP50-95)     Mask(P          R      mAP50  mAP50-95): 100%|██████████| 8/8 [00:10<00:00,  1.30s/it]\n",
      "                   all        116        116      0.844      0.879      0.893      0.682      0.844      0.879      0.893      0.694\n",
      "\n",
      "      Epoch    GPU_mem   box_loss   seg_loss   cls_loss   dfl_loss  Instances       Size\n",
      "      5/100      5.43G     0.9306     0.7569     0.9456     0.9716          5        896: 100%|██████████| 118/118 [02:06<00:00,  1.07s/it]\n",
      "                 Class     Images  Instances      Box(P          R      mAP50  mAP50-95)     Mask(P          R      mAP50  mAP50-95): 100%|██████████| 8/8 [00:10<00:00,  1.35s/it]\n",
      "                   all        116        116      0.928      0.894      0.924      0.764      0.928      0.894      0.928      0.803\n",
      "\n",
      "      Epoch    GPU_mem   box_loss   seg_loss   cls_loss   dfl_loss  Instances       Size\n",
      "      6/100      5.39G     0.9345     0.7434     0.9251     0.9947         13        896: 100%|██████████| 118/118 [02:07<00:00,  1.08s/it]\n",
      "                 Class     Images  Instances      Box(P          R      mAP50  mAP50-95)     Mask(P          R      mAP50  mAP50-95): 100%|██████████| 8/8 [00:11<00:00,  1.42s/it]\n",
      "                   all        116        116      0.888      0.905      0.912      0.759      0.888      0.905      0.917      0.746\n",
      "\n",
      "      Epoch    GPU_mem   box_loss   seg_loss   cls_loss   dfl_loss  Instances       Size\n",
      "      7/100      5.78G     0.8561     0.6874     0.8625     0.9765          7        896: 100%|██████████| 118/118 [02:39<00:00,  1.35s/it]\n",
      "                 Class     Images  Instances      Box(P          R      mAP50  mAP50-95)     Mask(P          R      mAP50  mAP50-95): 100%|██████████| 8/8 [00:11<00:00,  1.40s/it]\n",
      "                   all        116        116      0.912      0.914      0.897      0.765      0.912      0.914      0.897      0.763\n",
      "\n",
      "      Epoch    GPU_mem   box_loss   seg_loss   cls_loss   dfl_loss  Instances       Size\n",
      "      8/100      5.75G     0.8604     0.6965     0.8672      0.979          7        896: 100%|██████████| 118/118 [02:10<00:00,  1.10s/it]\n",
      "                 Class     Images  Instances      Box(P          R      mAP50  mAP50-95)     Mask(P          R      mAP50  mAP50-95): 100%|██████████| 8/8 [00:11<00:00,  1.38s/it]\n",
      "                   all        116        116      0.912      0.914      0.893      0.754      0.912      0.914      0.895      0.779\n",
      "\n",
      "      Epoch    GPU_mem   box_loss   seg_loss   cls_loss   dfl_loss  Instances       Size\n",
      "      9/100      5.39G     0.7845     0.6494      0.807     0.9325         11        896: 100%|██████████| 118/118 [02:05<00:00,  1.07s/it]\n",
      "                 Class     Images  Instances      Box(P          R      mAP50  mAP50-95)     Mask(P          R      mAP50  mAP50-95): 100%|██████████| 8/8 [00:11<00:00,  1.38s/it]\n",
      "                   all        116        116      0.913      0.914      0.936      0.798      0.913      0.914      0.937      0.809\n",
      "\n",
      "      Epoch    GPU_mem   box_loss   seg_loss   cls_loss   dfl_loss  Instances       Size\n",
      "     10/100      5.48G     0.7901      0.661      0.809     0.9478         12        896: 100%|██████████| 118/118 [02:11<00:00,  1.12s/it]\n",
      "                 Class     Images  Instances      Box(P          R      mAP50  mAP50-95)     Mask(P          R      mAP50  mAP50-95): 100%|██████████| 8/8 [00:11<00:00,  1.40s/it]\n",
      "                   all        116        116       0.92      0.914      0.906      0.777       0.92      0.914      0.908      0.776\n",
      "\n",
      "      Epoch    GPU_mem   box_loss   seg_loss   cls_loss   dfl_loss  Instances       Size\n",
      "     11/100       5.8G     0.7752     0.6384     0.8045     0.9412          7        896: 100%|██████████| 118/118 [02:34<00:00,  1.31s/it]\n",
      "                 Class     Images  Instances      Box(P          R      mAP50  mAP50-95)     Mask(P          R      mAP50  mAP50-95): 100%|██████████| 8/8 [00:11<00:00,  1.39s/it]\n",
      "                   all        116        116      0.904      0.914      0.931      0.817      0.904      0.914      0.935      0.826\n",
      "\n",
      "      Epoch    GPU_mem   box_loss   seg_loss   cls_loss   dfl_loss  Instances       Size\n",
      "     12/100       5.8G     0.7211     0.6153     0.7412     0.9275          5        896: 100%|██████████| 118/118 [02:34<00:00,  1.31s/it]\n",
      "                 Class     Images  Instances      Box(P          R      mAP50  mAP50-95)     Mask(P          R      mAP50  mAP50-95): 100%|██████████| 8/8 [00:10<00:00,  1.35s/it]\n",
      "                   all        116        116      0.883      0.914      0.917      0.792      0.883      0.914      0.921      0.777\n",
      "\n",
      "      Epoch    GPU_mem   box_loss   seg_loss   cls_loss   dfl_loss  Instances       Size\n",
      "     13/100      7.27G     0.7438     0.6246     0.7773     0.9263          9        896: 100%|██████████| 118/118 [02:07<00:00,  1.08s/it]\n",
      "                 Class     Images  Instances      Box(P          R      mAP50  mAP50-95)     Mask(P          R      mAP50  mAP50-95): 100%|██████████| 8/8 [00:11<00:00,  1.43s/it]\n",
      "                   all        116        116      0.914      0.914      0.952      0.821      0.914      0.914      0.952      0.811\n",
      "\n",
      "      Epoch    GPU_mem   box_loss   seg_loss   cls_loss   dfl_loss  Instances       Size\n",
      "     14/100      5.44G     0.6948     0.6189     0.7261     0.8989          7        896: 100%|██████████| 118/118 [02:07<00:00,  1.08s/it]\n",
      "                 Class     Images  Instances      Box(P          R      mAP50  mAP50-95)     Mask(P          R      mAP50  mAP50-95): 100%|██████████| 8/8 [00:11<00:00,  1.39s/it]\n",
      "                   all        116        116      0.918      0.914      0.934       0.78      0.918      0.914       0.94      0.818\n",
      "\n",
      "      Epoch    GPU_mem   box_loss   seg_loss   cls_loss   dfl_loss  Instances       Size\n",
      "     15/100      7.28G     0.7522      0.601     0.8043     0.9184         10        896: 100%|██████████| 118/118 [02:58<00:00,  1.51s/it]\n",
      "                 Class     Images  Instances      Box(P          R      mAP50  mAP50-95)     Mask(P          R      mAP50  mAP50-95): 100%|██████████| 8/8 [00:11<00:00,  1.40s/it]\n",
      "                   all        116        116      0.918      0.914      0.918       0.79      0.918      0.914      0.926      0.779\n",
      "\n",
      "      Epoch    GPU_mem   box_loss   seg_loss   cls_loss   dfl_loss  Instances       Size\n",
      "     16/100      5.42G     0.6818     0.6063     0.7372     0.9115          6        896: 100%|██████████| 118/118 [02:09<00:00,  1.10s/it]\n",
      "                 Class     Images  Instances      Box(P          R      mAP50  mAP50-95)     Mask(P          R      mAP50  mAP50-95): 100%|██████████| 8/8 [00:11<00:00,  1.38s/it]\n",
      "                   all        116        116      0.915      0.927      0.935      0.807      0.915      0.927      0.935      0.795\n",
      "\n",
      "      Epoch    GPU_mem   box_loss   seg_loss   cls_loss   dfl_loss  Instances       Size\n",
      "     17/100      7.28G     0.6846     0.5832     0.7045     0.9145          9        896: 100%|██████████| 118/118 [02:21<00:00,  1.20s/it]\n",
      "                 Class     Images  Instances      Box(P          R      mAP50  mAP50-95)     Mask(P          R      mAP50  mAP50-95): 100%|██████████| 8/8 [00:11<00:00,  1.39s/it]\n",
      "                   all        116        116      0.914      0.914      0.936      0.803      0.914      0.914      0.936      0.808\n",
      "\n",
      "      Epoch    GPU_mem   box_loss   seg_loss   cls_loss   dfl_loss  Instances       Size\n",
      "     18/100      5.47G     0.7219     0.6048     0.7399      0.914         10        896: 100%|██████████| 118/118 [02:15<00:00,  1.15s/it]\n",
      "                 Class     Images  Instances      Box(P          R      mAP50  mAP50-95)     Mask(P          R      mAP50  mAP50-95): 100%|██████████| 8/8 [00:11<00:00,  1.39s/it]\n",
      "                   all        116        116      0.912      0.914      0.919      0.793      0.912      0.914      0.923      0.796\n",
      "\n",
      "      Epoch    GPU_mem   box_loss   seg_loss   cls_loss   dfl_loss  Instances       Size\n",
      "     19/100       5.8G     0.6694     0.6248     0.6886     0.8987         10        896: 100%|██████████| 118/118 [02:49<00:00,  1.44s/it]\n",
      "                 Class     Images  Instances      Box(P          R      mAP50  mAP50-95)     Mask(P          R      mAP50  mAP50-95): 100%|██████████| 8/8 [00:11<00:00,  1.38s/it]\n",
      "                   all        116        116      0.911      0.914      0.943      0.804      0.911      0.914      0.949      0.829\n",
      "\n",
      "      Epoch    GPU_mem   box_loss   seg_loss   cls_loss   dfl_loss  Instances       Size\n",
      "     20/100      5.78G      0.659     0.5798     0.7296     0.8957          7        896: 100%|██████████| 118/118 [02:46<00:00,  1.41s/it]\n",
      "                 Class     Images  Instances      Box(P          R      mAP50  mAP50-95)     Mask(P          R      mAP50  mAP50-95): 100%|██████████| 8/8 [00:11<00:00,  1.39s/it]\n",
      "                   all        116        116      0.919      0.862      0.932      0.801      0.919      0.862      0.935      0.796\n",
      "\n",
      "      Epoch    GPU_mem   box_loss   seg_loss   cls_loss   dfl_loss  Instances       Size\n",
      "     21/100      5.42G     0.6284      0.527     0.6402     0.8976          7        896: 100%|██████████| 118/118 [02:06<00:00,  1.07s/it]\n",
      "                 Class     Images  Instances      Box(P          R      mAP50  mAP50-95)     Mask(P          R      mAP50  mAP50-95): 100%|██████████| 8/8 [00:11<00:00,  1.41s/it]\n",
      "                   all        116        116      0.912      0.914      0.937       0.84      0.912      0.914      0.943      0.815\n",
      "\n",
      "      Epoch    GPU_mem   box_loss   seg_loss   cls_loss   dfl_loss  Instances       Size\n",
      "     22/100       5.6G     0.6476     0.5978     0.6944     0.9108          9        896: 100%|██████████| 118/118 [02:14<00:00,  1.14s/it]\n",
      "                 Class     Images  Instances      Box(P          R      mAP50  mAP50-95)     Mask(P          R      mAP50  mAP50-95): 100%|██████████| 8/8 [00:10<00:00,  1.35s/it]\n",
      "                   all        116        116      0.948      0.845      0.931        0.8      0.948      0.845       0.94      0.814\n",
      "\n",
      "      Epoch    GPU_mem   box_loss   seg_loss   cls_loss   dfl_loss  Instances       Size\n",
      "     23/100      5.44G     0.6238     0.5603     0.6358     0.8945          9        896: 100%|██████████| 118/118 [02:06<00:00,  1.07s/it]\n",
      "                 Class     Images  Instances      Box(P          R      mAP50  mAP50-95)     Mask(P          R      mAP50  mAP50-95): 100%|██████████| 8/8 [00:10<00:00,  1.34s/it]\n",
      "                   all        116        116      0.904      0.914      0.931      0.806      0.904      0.914      0.932      0.804\n",
      "\n",
      "      Epoch    GPU_mem   box_loss   seg_loss   cls_loss   dfl_loss  Instances       Size\n",
      "     24/100       5.4G     0.6399     0.5933     0.6778     0.8916          8        896: 100%|██████████| 118/118 [02:07<00:00,  1.08s/it]\n",
      "                 Class     Images  Instances      Box(P          R      mAP50  mAP50-95)     Mask(P          R      mAP50  mAP50-95): 100%|██████████| 8/8 [00:10<00:00,  1.35s/it]\n",
      "                   all        116        116      0.912      0.914      0.942      0.821      0.912      0.914      0.944       0.81\n",
      "\n",
      "      Epoch    GPU_mem   box_loss   seg_loss   cls_loss   dfl_loss  Instances       Size\n",
      "     25/100      5.43G      0.603     0.5401     0.6432     0.8847         15        896: 100%|██████████| 118/118 [02:04<00:00,  1.05s/it]\n",
      "                 Class     Images  Instances      Box(P          R      mAP50  mAP50-95)     Mask(P          R      mAP50  mAP50-95): 100%|██████████| 8/8 [00:10<00:00,  1.35s/it]\n",
      "                   all        116        116      0.917      0.897      0.942      0.825      0.917      0.897      0.942       0.82\n",
      "\n",
      "      Epoch    GPU_mem   box_loss   seg_loss   cls_loss   dfl_loss  Instances       Size\n",
      "     26/100      5.45G     0.6043     0.5549     0.6439      0.879          6        896: 100%|██████████| 118/118 [02:11<00:00,  1.11s/it]\n",
      "                 Class     Images  Instances      Box(P          R      mAP50  mAP50-95)     Mask(P          R      mAP50  mAP50-95): 100%|██████████| 8/8 [00:10<00:00,  1.33s/it]\n",
      "                   all        116        116      0.913      0.914      0.945      0.829      0.913      0.914      0.953      0.819\n",
      "\n",
      "      Epoch    GPU_mem   box_loss   seg_loss   cls_loss   dfl_loss  Instances       Size\n",
      "     27/100       5.4G     0.6258     0.5737     0.6364      0.886          7        896: 100%|██████████| 118/118 [02:05<00:00,  1.07s/it]\n",
      "                 Class     Images  Instances      Box(P          R      mAP50  mAP50-95)     Mask(P          R      mAP50  mAP50-95): 100%|██████████| 8/8 [00:10<00:00,  1.34s/it]\n",
      "                   all        116        116      0.912      0.914      0.922      0.818      0.912      0.914      0.922       0.81\n",
      "\n",
      "      Epoch    GPU_mem   box_loss   seg_loss   cls_loss   dfl_loss  Instances       Size\n",
      "     28/100       5.4G     0.5738     0.5144      0.595     0.8769          7        896: 100%|██████████| 118/118 [02:04<00:00,  1.05s/it]\n",
      "                 Class     Images  Instances      Box(P          R      mAP50  mAP50-95)     Mask(P          R      mAP50  mAP50-95): 100%|██████████| 8/8 [00:10<00:00,  1.34s/it]\n",
      "                   all        116        116      0.896      0.895      0.927      0.795      0.896      0.895       0.93      0.806\n",
      "\n",
      "      Epoch    GPU_mem   box_loss   seg_loss   cls_loss   dfl_loss  Instances       Size\n",
      "     29/100      5.42G     0.5931     0.5467     0.6282     0.8718         13        896: 100%|██████████| 118/118 [02:01<00:00,  1.03s/it]\n",
      "                 Class     Images  Instances      Box(P          R      mAP50  mAP50-95)     Mask(P          R      mAP50  mAP50-95): 100%|██████████| 8/8 [00:10<00:00,  1.34s/it]\n",
      "                   all        116        116      0.924      0.914      0.938      0.821      0.924      0.914      0.951      0.817\n",
      "\n",
      "      Epoch    GPU_mem   box_loss   seg_loss   cls_loss   dfl_loss  Instances       Size\n",
      "     30/100      5.44G     0.5814     0.5504      0.622     0.8737         12        896: 100%|██████████| 118/118 [02:06<00:00,  1.07s/it]\n",
      "                 Class     Images  Instances      Box(P          R      mAP50  mAP50-95)     Mask(P          R      mAP50  mAP50-95): 100%|██████████| 8/8 [00:10<00:00,  1.35s/it]\n",
      "                   all        116        116      0.911      0.914      0.916      0.818      0.911      0.914      0.918      0.781\n",
      "\n",
      "      Epoch    GPU_mem   box_loss   seg_loss   cls_loss   dfl_loss  Instances       Size\n",
      "     31/100      5.44G     0.5821     0.5206     0.5859     0.8723         10        896: 100%|██████████| 118/118 [02:05<00:00,  1.07s/it]\n",
      "                 Class     Images  Instances      Box(P          R      mAP50  mAP50-95)     Mask(P          R      mAP50  mAP50-95): 100%|██████████| 8/8 [00:10<00:00,  1.33s/it]\n",
      "                   all        116        116      0.913      0.914      0.922      0.803      0.913      0.914      0.924      0.794\n",
      "\n",
      "      Epoch    GPU_mem   box_loss   seg_loss   cls_loss   dfl_loss  Instances       Size\n",
      "     32/100      5.41G     0.6144     0.5774     0.6267     0.8884          6        896: 100%|██████████| 118/118 [02:06<00:00,  1.07s/it]\n",
      "                 Class     Images  Instances      Box(P          R      mAP50  mAP50-95)     Mask(P          R      mAP50  mAP50-95): 100%|██████████| 8/8 [00:10<00:00,  1.34s/it]\n",
      "                   all        116        116      0.911      0.905      0.944      0.804      0.911      0.905      0.944      0.802\n",
      "\n",
      "      Epoch    GPU_mem   box_loss   seg_loss   cls_loss   dfl_loss  Instances       Size\n",
      "     33/100      7.28G     0.5798     0.5354      0.615     0.8664          6        896: 100%|██████████| 118/118 [02:04<00:00,  1.06s/it]\n",
      "                 Class     Images  Instances      Box(P          R      mAP50  mAP50-95)     Mask(P          R      mAP50  mAP50-95): 100%|██████████| 8/8 [00:10<00:00,  1.35s/it]\n",
      "                   all        116        116       0.92      0.914      0.924      0.819       0.92      0.914      0.929      0.813\n",
      "\n",
      "      Epoch    GPU_mem   box_loss   seg_loss   cls_loss   dfl_loss  Instances       Size\n",
      "     34/100      5.37G     0.5705     0.5333     0.6138      0.864          6        896: 100%|██████████| 118/118 [02:05<00:00,  1.06s/it]\n",
      "                 Class     Images  Instances      Box(P          R      mAP50  mAP50-95)     Mask(P          R      mAP50  mAP50-95): 100%|██████████| 8/8 [00:10<00:00,  1.35s/it]\n",
      "                   all        116        116      0.911      0.914      0.948       0.85      0.911      0.914      0.948      0.838\n",
      "\n",
      "      Epoch    GPU_mem   box_loss   seg_loss   cls_loss   dfl_loss  Instances       Size\n",
      "     35/100      5.36G     0.5562     0.5302     0.5711     0.8676          7        896: 100%|██████████| 118/118 [02:05<00:00,  1.06s/it]\n",
      "                 Class     Images  Instances      Box(P          R      mAP50  mAP50-95)     Mask(P          R      mAP50  mAP50-95): 100%|██████████| 8/8 [00:10<00:00,  1.34s/it]\n",
      "                   all        116        116      0.905      0.914      0.927      0.815      0.905      0.914      0.927      0.803\n",
      "\n",
      "      Epoch    GPU_mem   box_loss   seg_loss   cls_loss   dfl_loss  Instances       Size\n",
      "     36/100       5.8G      0.559     0.5228     0.5783     0.8615         14        896: 100%|██████████| 118/118 [02:36<00:00,  1.33s/it]\n",
      "                 Class     Images  Instances      Box(P          R      mAP50  mAP50-95)     Mask(P          R      mAP50  mAP50-95): 100%|██████████| 8/8 [00:11<00:00,  1.39s/it]\n",
      "                   all        116        116      0.911      0.914      0.936      0.824      0.911      0.914      0.943        0.8\n",
      "\n",
      "      Epoch    GPU_mem   box_loss   seg_loss   cls_loss   dfl_loss  Instances       Size\n",
      "     37/100      5.42G     0.5562     0.5036     0.5636     0.8694          5        896: 100%|██████████| 118/118 [02:01<00:00,  1.03s/it]\n",
      "                 Class     Images  Instances      Box(P          R      mAP50  mAP50-95)     Mask(P          R      mAP50  mAP50-95): 100%|██████████| 8/8 [00:10<00:00,  1.37s/it]\n",
      "                   all        116        116      0.913      0.914      0.922      0.834      0.913      0.914      0.923      0.819\n",
      "\n",
      "      Epoch    GPU_mem   box_loss   seg_loss   cls_loss   dfl_loss  Instances       Size\n",
      "     38/100      5.37G     0.5465      0.508     0.5954     0.8613         11        896: 100%|██████████| 118/118 [02:05<00:00,  1.06s/it]\n",
      "                 Class     Images  Instances      Box(P          R      mAP50  mAP50-95)     Mask(P          R      mAP50  mAP50-95): 100%|██████████| 8/8 [00:10<00:00,  1.35s/it]\n",
      "                   all        116        116      0.907      0.921      0.936      0.865      0.907      0.921      0.943      0.821\n",
      "\n",
      "      Epoch    GPU_mem   box_loss   seg_loss   cls_loss   dfl_loss  Instances       Size\n",
      "     39/100      5.78G     0.5733     0.5136     0.5829     0.8707          6        896: 100%|██████████| 118/118 [02:34<00:00,  1.31s/it]\n",
      "                 Class     Images  Instances      Box(P          R      mAP50  mAP50-95)     Mask(P          R      mAP50  mAP50-95): 100%|██████████| 8/8 [00:10<00:00,  1.35s/it]\n",
      "                   all        116        116      0.914      0.911      0.941      0.835      0.914      0.911      0.945      0.815\n",
      "\n",
      "      Epoch    GPU_mem   box_loss   seg_loss   cls_loss   dfl_loss  Instances       Size\n",
      "     40/100      5.78G     0.5501     0.4804     0.5831      0.864          9        896: 100%|██████████| 118/118 [02:33<00:00,  1.30s/it]\n",
      "                 Class     Images  Instances      Box(P          R      mAP50  mAP50-95)     Mask(P          R      mAP50  mAP50-95): 100%|██████████| 8/8 [00:10<00:00,  1.33s/it]\n",
      "                   all        116        116      0.912      0.914      0.924      0.816      0.912      0.914      0.933      0.806\n",
      "\n",
      "      Epoch    GPU_mem   box_loss   seg_loss   cls_loss   dfl_loss  Instances       Size\n",
      "     41/100      5.42G     0.5376     0.4838      0.565     0.8641          7        896: 100%|██████████| 118/118 [02:01<00:00,  1.03s/it]\n",
      "                 Class     Images  Instances      Box(P          R      mAP50  mAP50-95)     Mask(P          R      mAP50  mAP50-95): 100%|██████████| 8/8 [00:10<00:00,  1.35s/it]\n",
      "                   all        116        116      0.911      0.888      0.941       0.85      0.911      0.888      0.942      0.825\n",
      "\n",
      "      Epoch    GPU_mem   box_loss   seg_loss   cls_loss   dfl_loss  Instances       Size\n",
      "     42/100      5.54G     0.5289     0.5044     0.5581     0.8711          7        896: 100%|██████████| 118/118 [02:08<00:00,  1.09s/it]\n",
      "                 Class     Images  Instances      Box(P          R      mAP50  mAP50-95)     Mask(P          R      mAP50  mAP50-95): 100%|██████████| 8/8 [00:11<00:00,  1.39s/it]\n",
      "                   all        116        116      0.913      0.901      0.938      0.826      0.913      0.901      0.939      0.808\n",
      "\n",
      "      Epoch    GPU_mem   box_loss   seg_loss   cls_loss   dfl_loss  Instances       Size\n",
      "     43/100      5.55G     0.5556     0.5306     0.5919      0.864         10        896: 100%|██████████| 118/118 [02:09<00:00,  1.10s/it]\n",
      "                 Class     Images  Instances      Box(P          R      mAP50  mAP50-95)     Mask(P          R      mAP50  mAP50-95): 100%|██████████| 8/8 [00:11<00:00,  1.41s/it]\n",
      "                   all        116        116      0.929      0.902      0.932      0.818      0.929      0.902      0.938      0.808\n",
      "\n",
      "      Epoch    GPU_mem   box_loss   seg_loss   cls_loss   dfl_loss  Instances       Size\n",
      "     44/100       5.4G     0.5545     0.5223     0.6083     0.8682         12        896: 100%|██████████| 118/118 [02:14<00:00,  1.14s/it]\n",
      "                 Class     Images  Instances      Box(P          R      mAP50  mAP50-95)     Mask(P          R      mAP50  mAP50-95): 100%|██████████| 8/8 [00:11<00:00,  1.40s/it]\n",
      "                   all        116        116      0.935      0.863      0.942      0.844      0.935      0.863      0.942      0.812\n",
      "\n",
      "      Epoch    GPU_mem   box_loss   seg_loss   cls_loss   dfl_loss  Instances       Size\n",
      "     45/100      5.38G      0.523     0.4929     0.5478     0.8539          9        896: 100%|██████████| 118/118 [02:05<00:00,  1.07s/it]\n",
      "                 Class     Images  Instances      Box(P          R      mAP50  mAP50-95)     Mask(P          R      mAP50  mAP50-95): 100%|██████████| 8/8 [00:11<00:00,  1.40s/it]\n",
      "                   all        116        116      0.963      0.888      0.938      0.834      0.963      0.888      0.944      0.833\n",
      "\n",
      "      Epoch    GPU_mem   box_loss   seg_loss   cls_loss   dfl_loss  Instances       Size\n",
      "     46/100      5.58G     0.5323     0.4698     0.5491       0.86          9        896: 100%|██████████| 118/118 [02:18<00:00,  1.17s/it]\n",
      "                 Class     Images  Instances      Box(P          R      mAP50  mAP50-95)     Mask(P          R      mAP50  mAP50-95): 100%|██████████| 8/8 [00:11<00:00,  1.40s/it]\n",
      "                   all        116        116       0.87      0.921      0.944      0.852       0.87      0.921      0.945      0.836\n",
      "\n",
      "      Epoch    GPU_mem   box_loss   seg_loss   cls_loss   dfl_loss  Instances       Size\n",
      "     47/100      5.55G     0.5245     0.4878     0.5343     0.8627          8        896: 100%|██████████| 118/118 [02:18<00:00,  1.17s/it]\n",
      "                 Class     Images  Instances      Box(P          R      mAP50  mAP50-95)     Mask(P          R      mAP50  mAP50-95): 100%|██████████| 8/8 [00:10<00:00,  1.37s/it]\n",
      "                   all        116        116      0.891      0.871      0.938      0.846      0.891      0.871      0.949      0.821\n",
      "\n",
      "      Epoch    GPU_mem   box_loss   seg_loss   cls_loss   dfl_loss  Instances       Size\n",
      "     48/100      5.52G     0.5002     0.4835     0.5217     0.8552          6        896: 100%|██████████| 118/118 [02:16<00:00,  1.16s/it]\n",
      "                 Class     Images  Instances      Box(P          R      mAP50  mAP50-95)     Mask(P          R      mAP50  mAP50-95): 100%|██████████| 8/8 [00:11<00:00,  1.40s/it]\n",
      "                   all        116        116      0.875      0.903      0.916      0.827      0.875      0.903      0.925      0.794\n",
      "\n",
      "      Epoch    GPU_mem   box_loss   seg_loss   cls_loss   dfl_loss  Instances       Size\n",
      "     49/100      5.37G     0.5143     0.4951     0.5217     0.8448          6        896: 100%|██████████| 118/118 [02:06<00:00,  1.07s/it]\n",
      "                 Class     Images  Instances      Box(P          R      mAP50  mAP50-95)     Mask(P          R      mAP50  mAP50-95): 100%|██████████| 8/8 [00:11<00:00,  1.40s/it]\n",
      "                   all        116        116      0.903       0.88      0.934      0.844      0.903       0.88      0.937      0.817\n",
      "\n",
      "      Epoch    GPU_mem   box_loss   seg_loss   cls_loss   dfl_loss  Instances       Size\n",
      "     50/100       7.4G     0.5397      0.496     0.5671     0.8558          8        896: 100%|██████████| 118/118 [02:11<00:00,  1.11s/it]\n",
      "                 Class     Images  Instances      Box(P          R      mAP50  mAP50-95)     Mask(P          R      mAP50  mAP50-95): 100%|██████████| 8/8 [00:10<00:00,  1.33s/it]\n",
      "                   all        116        116      0.921      0.905      0.937      0.833      0.921      0.905      0.939      0.823\n",
      "\n",
      "      Epoch    GPU_mem   box_loss   seg_loss   cls_loss   dfl_loss  Instances       Size\n",
      "     51/100       5.4G      0.505     0.4769     0.5223      0.858         10        896: 100%|██████████| 118/118 [02:06<00:00,  1.07s/it]\n",
      "                 Class     Images  Instances      Box(P          R      mAP50  mAP50-95)     Mask(P          R      mAP50  mAP50-95): 100%|██████████| 8/8 [00:10<00:00,  1.35s/it]\n",
      "                   all        116        116      0.886      0.888      0.924      0.822      0.886      0.888      0.924      0.806\n",
      "\n",
      "      Epoch    GPU_mem   box_loss   seg_loss   cls_loss   dfl_loss  Instances       Size\n",
      "     52/100       5.4G     0.5008     0.4673     0.5429     0.8457          8        896: 100%|██████████| 118/118 [02:06<00:00,  1.07s/it]\n",
      "                 Class     Images  Instances      Box(P          R      mAP50  mAP50-95)     Mask(P          R      mAP50  mAP50-95): 100%|██████████| 8/8 [00:10<00:00,  1.33s/it]\n",
      "                   all        116        116      0.947      0.905       0.94      0.868      0.947      0.905      0.941      0.828\n",
      "\n",
      "      Epoch    GPU_mem   box_loss   seg_loss   cls_loss   dfl_loss  Instances       Size\n",
      "     53/100      7.28G     0.5066     0.4756     0.5421     0.8585          6        896: 100%|██████████| 118/118 [02:04<00:00,  1.05s/it]\n",
      "                 Class     Images  Instances      Box(P          R      mAP50  mAP50-95)     Mask(P          R      mAP50  mAP50-95): 100%|██████████| 8/8 [00:10<00:00,  1.34s/it]\n",
      "                   all        116        116      0.865      0.882      0.946       0.85      0.865      0.882      0.947      0.812\n",
      "\n",
      "      Epoch    GPU_mem   box_loss   seg_loss   cls_loss   dfl_loss  Instances       Size\n",
      "     54/100       7.4G     0.5084     0.4594     0.5414     0.8574         11        896: 100%|██████████| 118/118 [02:10<00:00,  1.11s/it]\n",
      "                 Class     Images  Instances      Box(P          R      mAP50  mAP50-95)     Mask(P          R      mAP50  mAP50-95): 100%|██████████| 8/8 [00:10<00:00,  1.34s/it]\n",
      "                   all        116        116      0.897      0.914      0.942      0.869      0.897      0.914      0.945      0.826\n",
      "\n",
      "      Epoch    GPU_mem   box_loss   seg_loss   cls_loss   dfl_loss  Instances       Size\n",
      "     55/100      7.23G     0.5036      0.478     0.5183     0.8453          8        896: 100%|██████████| 118/118 [02:09<00:00,  1.10s/it]\n",
      "                 Class     Images  Instances      Box(P          R      mAP50  mAP50-95)     Mask(P          R      mAP50  mAP50-95): 100%|██████████| 8/8 [00:10<00:00,  1.33s/it]\n",
      "                   all        116        116      0.913      0.914      0.921      0.836      0.913      0.914      0.921      0.793\n",
      "\n",
      "      Epoch    GPU_mem   box_loss   seg_loss   cls_loss   dfl_loss  Instances       Size\n",
      "     56/100      7.11G     0.4824     0.4424     0.5252     0.8503          9        896: 100%|██████████| 118/118 [03:00<00:00,  1.53s/it]\n",
      "                 Class     Images  Instances      Box(P          R      mAP50  mAP50-95)     Mask(P          R      mAP50  mAP50-95): 100%|██████████| 8/8 [00:10<00:00,  1.35s/it]\n",
      "                   all        116        116      0.917      0.914      0.933       0.85      0.917      0.914      0.934      0.817\n",
      "\n",
      "      Epoch    GPU_mem   box_loss   seg_loss   cls_loss   dfl_loss  Instances       Size\n",
      "     57/100      5.41G     0.4799     0.4468     0.4947     0.8429         11        896: 100%|██████████| 118/118 [02:01<00:00,  1.03s/it]\n",
      "                 Class     Images  Instances      Box(P          R      mAP50  mAP50-95)     Mask(P          R      mAP50  mAP50-95): 100%|██████████| 8/8 [00:10<00:00,  1.34s/it]\n",
      "                   all        116        116      0.912      0.914       0.94      0.864      0.912      0.914       0.94      0.836\n",
      "\n",
      "      Epoch    GPU_mem   box_loss   seg_loss   cls_loss   dfl_loss  Instances       Size\n",
      "     58/100      5.37G      0.512     0.4809     0.5118     0.8517         14        896: 100%|██████████| 118/118 [02:07<00:00,  1.08s/it]\n",
      "                 Class     Images  Instances      Box(P          R      mAP50  mAP50-95)     Mask(P          R      mAP50  mAP50-95): 100%|██████████| 8/8 [00:10<00:00,  1.33s/it]\n",
      "                   all        116        116      0.934      0.784      0.917      0.823      0.934      0.784      0.917      0.776\n",
      "\n",
      "      Epoch    GPU_mem   box_loss   seg_loss   cls_loss   dfl_loss  Instances       Size\n",
      "     59/100      5.78G     0.4844     0.4652     0.4814     0.8431          8        896: 100%|██████████| 118/118 [02:35<00:00,  1.31s/it]\n",
      "                 Class     Images  Instances      Box(P          R      mAP50  mAP50-95)     Mask(P          R      mAP50  mAP50-95): 100%|██████████| 8/8 [00:10<00:00,  1.35s/it]\n",
      "                   all        116        116      0.898      0.888      0.947      0.866      0.898      0.888      0.949      0.825\n",
      "\n",
      "      Epoch    GPU_mem   box_loss   seg_loss   cls_loss   dfl_loss  Instances       Size\n",
      "     60/100      5.75G      0.481     0.4597     0.4937     0.8502          6        896: 100%|██████████| 118/118 [02:36<00:00,  1.33s/it]\n",
      "                 Class     Images  Instances      Box(P          R      mAP50  mAP50-95)     Mask(P          R      mAP50  mAP50-95): 100%|██████████| 8/8 [00:10<00:00,  1.34s/it]\n",
      "                   all        116        116      0.864      0.876      0.931      0.839      0.864      0.876      0.931      0.814\n",
      "\n",
      "      Epoch    GPU_mem   box_loss   seg_loss   cls_loss   dfl_loss  Instances       Size\n",
      "     61/100      5.41G     0.4982     0.4997     0.5195     0.8577         13        896: 100%|██████████| 118/118 [02:01<00:00,  1.03s/it]\n",
      "                 Class     Images  Instances      Box(P          R      mAP50  mAP50-95)     Mask(P          R      mAP50  mAP50-95): 100%|██████████| 8/8 [00:10<00:00,  1.34s/it]\n",
      "                   all        116        116      0.918      0.914      0.937      0.862      0.918      0.914      0.937      0.834\n",
      "\n",
      "      Epoch    GPU_mem   box_loss   seg_loss   cls_loss   dfl_loss  Instances       Size\n",
      "     62/100      5.54G     0.4958     0.4702     0.4998      0.852          9        896: 100%|██████████| 118/118 [02:08<00:00,  1.09s/it]\n",
      "                 Class     Images  Instances      Box(P          R      mAP50  mAP50-95)     Mask(P          R      mAP50  mAP50-95): 100%|██████████| 8/8 [00:10<00:00,  1.33s/it]\n",
      "                   all        116        116      0.928      0.905      0.941      0.861      0.928      0.905      0.941      0.838\n",
      "\n",
      "      Epoch    GPU_mem   box_loss   seg_loss   cls_loss   dfl_loss  Instances       Size\n",
      "     63/100      5.42G     0.4774     0.4649     0.4867     0.8462          7        896: 100%|██████████| 118/118 [02:06<00:00,  1.07s/it]\n",
      "                 Class     Images  Instances      Box(P          R      mAP50  mAP50-95)     Mask(P          R      mAP50  mAP50-95): 100%|██████████| 8/8 [00:10<00:00,  1.35s/it]\n",
      "                   all        116        116      0.881      0.897      0.936      0.869      0.881      0.897      0.938       0.83\n",
      "\n",
      "      Epoch    GPU_mem   box_loss   seg_loss   cls_loss   dfl_loss  Instances       Size\n",
      "     64/100      5.72G      0.463      0.445     0.4854     0.8484          4        896: 100%|██████████| 118/118 [02:07<00:00,  1.08s/it]\n",
      "                 Class     Images  Instances      Box(P          R      mAP50  mAP50-95)     Mask(P          R      mAP50  mAP50-95): 100%|██████████| 8/8 [00:10<00:00,  1.33s/it]\n",
      "                   all        116        116      0.926      0.914      0.932       0.86      0.926      0.914      0.932      0.833\n",
      "\n",
      "      Epoch    GPU_mem   box_loss   seg_loss   cls_loss   dfl_loss  Instances       Size\n",
      "     65/100      5.37G     0.4595     0.4325     0.4566     0.8356          5        896: 100%|██████████| 118/118 [01:59<00:00,  1.02s/it]\n",
      "                 Class     Images  Instances      Box(P          R      mAP50  mAP50-95)     Mask(P          R      mAP50  mAP50-95): 100%|██████████| 8/8 [00:10<00:00,  1.34s/it]\n",
      "                   all        116        116      0.939      0.905      0.939       0.87      0.939      0.905      0.939      0.829\n",
      "\n",
      "      Epoch    GPU_mem   box_loss   seg_loss   cls_loss   dfl_loss  Instances       Size\n",
      "     66/100      5.36G     0.4888     0.4767     0.5166     0.8548          9        896: 100%|██████████| 118/118 [02:04<00:00,  1.06s/it]\n",
      "                 Class     Images  Instances      Box(P          R      mAP50  mAP50-95)     Mask(P          R      mAP50  mAP50-95): 100%|██████████| 8/8 [00:10<00:00,  1.34s/it]\n",
      "                   all        116        116       0.91      0.914      0.943      0.872       0.91      0.914      0.944      0.842\n",
      "\n",
      "      Epoch    GPU_mem   box_loss   seg_loss   cls_loss   dfl_loss  Instances       Size\n",
      "     67/100      5.75G       0.46      0.475     0.5029     0.8447          9        896: 100%|██████████| 118/118 [02:35<00:00,  1.32s/it]\n",
      "                 Class     Images  Instances      Box(P          R      mAP50  mAP50-95)     Mask(P          R      mAP50  mAP50-95): 100%|██████████| 8/8 [00:10<00:00,  1.35s/it]\n",
      "                   all        116        116      0.866      0.914      0.945      0.867      0.866      0.914      0.952      0.848\n",
      "\n",
      "      Epoch    GPU_mem   box_loss   seg_loss   cls_loss   dfl_loss  Instances       Size\n",
      "     68/100      5.75G     0.4623     0.4357     0.4688     0.8484          9        896: 100%|██████████| 118/118 [02:35<00:00,  1.32s/it]\n",
      "                 Class     Images  Instances      Box(P          R      mAP50  mAP50-95)     Mask(P          R      mAP50  mAP50-95): 100%|██████████| 8/8 [00:10<00:00,  1.34s/it]\n",
      "                   all        116        116      0.851      0.888      0.935      0.851      0.851      0.888      0.935      0.837\n",
      "\n",
      "      Epoch    GPU_mem   box_loss   seg_loss   cls_loss   dfl_loss  Instances       Size\n",
      "     69/100      7.27G      0.455     0.4406     0.4551     0.8421         10        896: 100%|██████████| 118/118 [02:17<00:00,  1.16s/it]\n",
      "                 Class     Images  Instances      Box(P          R      mAP50  mAP50-95)     Mask(P          R      mAP50  mAP50-95): 100%|██████████| 8/8 [00:10<00:00,  1.34s/it]\n",
      "                   all        116        116      0.867      0.899      0.935      0.848      0.867      0.899      0.935      0.841\n",
      "\n",
      "      Epoch    GPU_mem   box_loss   seg_loss   cls_loss   dfl_loss  Instances       Size\n",
      "     70/100       5.6G     0.4417     0.4105     0.4564     0.8369          7        896: 100%|██████████| 118/118 [02:08<00:00,  1.09s/it]\n",
      "                 Class     Images  Instances      Box(P          R      mAP50  mAP50-95)     Mask(P          R      mAP50  mAP50-95): 100%|██████████| 8/8 [00:10<00:00,  1.35s/it]\n",
      "                   all        116        116      0.911      0.836       0.94      0.855      0.911      0.836       0.94      0.837\n",
      "\n",
      "      Epoch    GPU_mem   box_loss   seg_loss   cls_loss   dfl_loss  Instances       Size\n",
      "     71/100      5.54G     0.4422     0.4186     0.4528     0.8295          7        896: 100%|██████████| 118/118 [02:08<00:00,  1.09s/it]\n",
      "                 Class     Images  Instances      Box(P          R      mAP50  mAP50-95)     Mask(P          R      mAP50  mAP50-95): 100%|██████████| 8/8 [00:10<00:00,  1.34s/it]\n",
      "                   all        116        116       0.88      0.879      0.939      0.867       0.88      0.879      0.942      0.831\n",
      "\n",
      "      Epoch    GPU_mem   box_loss   seg_loss   cls_loss   dfl_loss  Instances       Size\n",
      "     72/100      5.75G     0.4426     0.4369     0.4587     0.8337          9        896: 100%|██████████| 118/118 [02:39<00:00,  1.35s/it]\n",
      "                 Class     Images  Instances      Box(P          R      mAP50  mAP50-95)     Mask(P          R      mAP50  mAP50-95): 100%|██████████| 8/8 [00:10<00:00,  1.34s/it]\n",
      "                   all        116        116       0.92      0.836      0.933      0.851       0.92      0.836      0.938      0.826\n",
      "\n",
      "      Epoch    GPU_mem   box_loss   seg_loss   cls_loss   dfl_loss  Instances       Size\n",
      "     73/100       7.2G     0.4186     0.4092     0.4265     0.8278          9        896: 100%|██████████| 118/118 [02:08<00:00,  1.09s/it]\n",
      "                 Class     Images  Instances      Box(P          R      mAP50  mAP50-95)     Mask(P          R      mAP50  mAP50-95): 100%|██████████| 8/8 [00:10<00:00,  1.34s/it]\n",
      "                   all        116        116      0.867      0.922      0.936      0.867      0.867      0.922      0.937      0.832\n",
      "\n",
      "      Epoch    GPU_mem   box_loss   seg_loss   cls_loss   dfl_loss  Instances       Size\n",
      "     74/100      5.79G      0.428     0.4464     0.4353     0.8315          9        896: 100%|██████████| 118/118 [02:38<00:00,  1.34s/it]\n",
      "                 Class     Images  Instances      Box(P          R      mAP50  mAP50-95)     Mask(P          R      mAP50  mAP50-95): 100%|██████████| 8/8 [00:10<00:00,  1.36s/it]\n",
      "                   all        116        116      0.922       0.92      0.938      0.873      0.922       0.92       0.94      0.832\n",
      "\n",
      "      Epoch    GPU_mem   box_loss   seg_loss   cls_loss   dfl_loss  Instances       Size\n",
      "     75/100      5.79G     0.4426     0.4122     0.4471     0.8316          7        896: 100%|██████████| 118/118 [02:37<00:00,  1.33s/it]\n",
      "                 Class     Images  Instances      Box(P          R      mAP50  mAP50-95)     Mask(P          R      mAP50  mAP50-95): 100%|██████████| 8/8 [00:10<00:00,  1.36s/it]\n",
      "                   all        116        116      0.911      0.881      0.945      0.868      0.911      0.881      0.946      0.843\n",
      "\n",
      "      Epoch    GPU_mem   box_loss   seg_loss   cls_loss   dfl_loss  Instances       Size\n",
      "     76/100      5.67G     0.4398     0.4214      0.439     0.8354         10        896: 100%|██████████| 118/118 [02:40<00:00,  1.36s/it]\n",
      "                 Class     Images  Instances      Box(P          R      mAP50  mAP50-95)     Mask(P          R      mAP50  mAP50-95): 100%|██████████| 8/8 [00:10<00:00,  1.33s/it]\n",
      "                   all        116        116      0.939      0.798       0.94      0.861      0.939      0.798      0.945      0.843\n",
      "\n",
      "      Epoch    GPU_mem   box_loss   seg_loss   cls_loss   dfl_loss  Instances       Size\n",
      "     77/100      5.42G     0.4207     0.4285     0.4249     0.8228          6        896: 100%|██████████| 118/118 [02:01<00:00,  1.03s/it]\n",
      "                 Class     Images  Instances      Box(P          R      mAP50  mAP50-95)     Mask(P          R      mAP50  mAP50-95): 100%|██████████| 8/8 [00:10<00:00,  1.35s/it]\n",
      "                   all        116        116      0.861      0.911      0.936      0.859      0.861      0.911      0.936      0.845\n",
      "\n",
      "      Epoch    GPU_mem   box_loss   seg_loss   cls_loss   dfl_loss  Instances       Size\n",
      "     78/100      5.36G     0.4428     0.4159     0.4508     0.8299         13        896: 100%|██████████| 118/118 [02:07<00:00,  1.08s/it]\n",
      "                 Class     Images  Instances      Box(P          R      mAP50  mAP50-95)     Mask(P          R      mAP50  mAP50-95): 100%|██████████| 8/8 [00:10<00:00,  1.33s/it]\n",
      "                   all        116        116       0.86      0.897       0.94      0.864       0.86      0.897      0.943      0.837\n",
      "\n",
      "      Epoch    GPU_mem   box_loss   seg_loss   cls_loss   dfl_loss  Instances       Size\n",
      "     79/100      5.77G     0.4265      0.402     0.4207     0.8311          7        896: 100%|██████████| 118/118 [02:33<00:00,  1.30s/it]\n",
      "                 Class     Images  Instances      Box(P          R      mAP50  mAP50-95)     Mask(P          R      mAP50  mAP50-95): 100%|██████████| 8/8 [00:10<00:00,  1.33s/it]\n",
      "                   all        116        116       0.87      0.879      0.927      0.847       0.87      0.879      0.929      0.828\n",
      "\n",
      "      Epoch    GPU_mem   box_loss   seg_loss   cls_loss   dfl_loss  Instances       Size\n",
      "     80/100      5.75G     0.4139     0.4186     0.4282     0.8256         11        896: 100%|██████████| 118/118 [02:33<00:00,  1.30s/it]\n",
      "                 Class     Images  Instances      Box(P          R      mAP50  mAP50-95)     Mask(P          R      mAP50  mAP50-95): 100%|██████████| 8/8 [00:10<00:00,  1.34s/it]\n",
      "                   all        116        116      0.884      0.897      0.941      0.869      0.884      0.897      0.945      0.836\n",
      "\n",
      "      Epoch    GPU_mem   box_loss   seg_loss   cls_loss   dfl_loss  Instances       Size\n",
      "     81/100      5.42G     0.4113     0.4062     0.4071     0.8292         12        896: 100%|██████████| 118/118 [02:00<00:00,  1.03s/it]\n",
      "                 Class     Images  Instances      Box(P          R      mAP50  mAP50-95)     Mask(P          R      mAP50  mAP50-95): 100%|██████████| 8/8 [00:10<00:00,  1.34s/it]\n",
      "                   all        116        116      0.967      0.768      0.934      0.858      0.967      0.768      0.934      0.838\n",
      "\n",
      "      Epoch    GPU_mem   box_loss   seg_loss   cls_loss   dfl_loss  Instances       Size\n",
      "     82/100      5.35G     0.4113     0.4105     0.4078     0.8314          5        896: 100%|██████████| 118/118 [02:10<00:00,  1.11s/it]\n",
      "                 Class     Images  Instances      Box(P          R      mAP50  mAP50-95)     Mask(P          R      mAP50  mAP50-95): 100%|██████████| 8/8 [00:10<00:00,  1.33s/it]\n",
      "                   all        116        116      0.865      0.914       0.93      0.863      0.865      0.914      0.931      0.836\n",
      "\n",
      "      Epoch    GPU_mem   box_loss   seg_loss   cls_loss   dfl_loss  Instances       Size\n",
      "     83/100      5.79G     0.4168     0.3995     0.4246      0.822         10        896: 100%|██████████| 118/118 [02:45<00:00,  1.40s/it]\n",
      "                 Class     Images  Instances      Box(P          R      mAP50  mAP50-95)     Mask(P          R      mAP50  mAP50-95): 100%|██████████| 8/8 [00:11<00:00,  1.41s/it]\n",
      "                   all        116        116      0.895      0.905      0.934      0.868      0.895      0.905      0.937      0.851\n",
      "\n",
      "      Epoch    GPU_mem   box_loss   seg_loss   cls_loss   dfl_loss  Instances       Size\n",
      "     84/100      5.77G     0.4084     0.3912      0.407     0.8245          3        896: 100%|██████████| 118/118 [02:47<00:00,  1.42s/it]\n",
      "                 Class     Images  Instances      Box(P          R      mAP50  mAP50-95)     Mask(P          R      mAP50  mAP50-95): 100%|██████████| 8/8 [00:11<00:00,  1.39s/it]\n",
      "                   all        116        116      0.854       0.86      0.938      0.848      0.854       0.86       0.94      0.821\n",
      "\n",
      "      Epoch    GPU_mem   box_loss   seg_loss   cls_loss   dfl_loss  Instances       Size\n",
      "     85/100      5.41G     0.4026     0.4154       0.41     0.8188          8        896: 100%|██████████| 118/118 [02:06<00:00,  1.07s/it]\n",
      "                 Class     Images  Instances      Box(P          R      mAP50  mAP50-95)     Mask(P          R      mAP50  mAP50-95): 100%|██████████| 8/8 [00:11<00:00,  1.38s/it]\n",
      "                   all        116        116      0.842      0.873      0.934      0.864      0.842      0.873      0.938      0.839\n",
      "\n",
      "      Epoch    GPU_mem   box_loss   seg_loss   cls_loss   dfl_loss  Instances       Size\n",
      "     86/100      5.42G     0.4111     0.4118     0.4186     0.8328         11        896: 100%|██████████| 118/118 [02:17<00:00,  1.17s/it]\n",
      "                 Class     Images  Instances      Box(P          R      mAP50  mAP50-95)     Mask(P          R      mAP50  mAP50-95): 100%|██████████| 8/8 [00:12<00:00,  1.51s/it]\n",
      "                   all        116        116      0.868      0.906      0.937      0.868      0.868      0.906      0.937      0.842\n",
      "\n",
      "      Epoch    GPU_mem   box_loss   seg_loss   cls_loss   dfl_loss  Instances       Size\n",
      "     87/100      5.42G     0.4174      0.421     0.4025     0.8288          8        896: 100%|██████████| 118/118 [02:19<00:00,  1.18s/it]\n",
      "                 Class     Images  Instances      Box(P          R      mAP50  mAP50-95)     Mask(P          R      mAP50  mAP50-95): 100%|██████████| 8/8 [00:11<00:00,  1.47s/it]\n",
      "                   all        116        116      0.875      0.879      0.937      0.856      0.875      0.879      0.938      0.823\n",
      "\n",
      "      Epoch    GPU_mem   box_loss   seg_loss   cls_loss   dfl_loss  Instances       Size\n",
      "     88/100      5.75G     0.3934     0.3859     0.3945     0.8117          7        896: 100%|██████████| 118/118 [02:57<00:00,  1.50s/it]\n",
      "                 Class     Images  Instances      Box(P          R      mAP50  mAP50-95)     Mask(P          R      mAP50  mAP50-95): 100%|██████████| 8/8 [00:11<00:00,  1.47s/it]\n",
      "                   all        116        116       0.91      0.879      0.944      0.882       0.91      0.879      0.949      0.849\n",
      "\n",
      "      Epoch    GPU_mem   box_loss   seg_loss   cls_loss   dfl_loss  Instances       Size\n",
      "     89/100      7.27G     0.4011     0.4064     0.3782     0.8259          7        896: 100%|██████████| 118/118 [02:30<00:00,  1.28s/it]\n",
      "                 Class     Images  Instances      Box(P          R      mAP50  mAP50-95)     Mask(P          R      mAP50  mAP50-95): 100%|██████████| 8/8 [00:11<00:00,  1.41s/it]\n",
      "                   all        116        116      0.858      0.884       0.94      0.867      0.858      0.884      0.943      0.841\n",
      "\n",
      "      Epoch    GPU_mem   box_loss   seg_loss   cls_loss   dfl_loss  Instances       Size\n",
      "     90/100      5.47G     0.3831     0.4001      0.376     0.8202          5        896: 100%|██████████| 118/118 [03:01<00:00,  1.54s/it]\n",
      "                 Class     Images  Instances      Box(P          R      mAP50  mAP50-95)     Mask(P          R      mAP50  mAP50-95): 100%|██████████| 8/8 [00:12<00:00,  1.54s/it]\n",
      "                   all        116        116      0.865      0.897      0.945      0.877      0.865      0.897      0.948      0.845\n",
      "\n",
      "      Epoch    GPU_mem   box_loss   seg_loss   cls_loss   dfl_loss  Instances       Size\n",
      "     91/100      5.44G     0.3935     0.4103     0.3821     0.8147          5        896: 100%|██████████| 118/118 [03:06<00:00,  1.58s/it]\n",
      "                 Class     Images  Instances      Box(P          R      mAP50  mAP50-95)     Mask(P          R      mAP50  mAP50-95): 100%|██████████| 8/8 [00:11<00:00,  1.47s/it]\n",
      "                   all        116        116      0.859      0.871      0.937      0.863      0.859      0.871      0.942      0.821\n",
      "\n",
      "      Epoch    GPU_mem   box_loss   seg_loss   cls_loss   dfl_loss  Instances       Size\n",
      "     92/100      5.42G     0.3835     0.3818     0.3794     0.8219          6        896: 100%|██████████| 118/118 [03:01<00:00,  1.54s/it]\n",
      "                 Class     Images  Instances      Box(P          R      mAP50  mAP50-95)     Mask(P          R      mAP50  mAP50-95): 100%|██████████| 8/8 [00:11<00:00,  1.45s/it]\n",
      "                   all        116        116        0.9      0.905      0.933       0.88        0.9      0.905      0.937      0.845\n",
      "\n",
      "      Epoch    GPU_mem   box_loss   seg_loss   cls_loss   dfl_loss  Instances       Size\n",
      "     93/100      5.39G     0.3737     0.3904      0.371     0.8201          7        896: 100%|██████████| 118/118 [02:23<00:00,  1.22s/it]\n",
      "                 Class     Images  Instances      Box(P          R      mAP50  mAP50-95)     Mask(P          R      mAP50  mAP50-95): 100%|██████████| 8/8 [00:12<00:00,  1.55s/it]\n",
      "                   all        116        116      0.843       0.88      0.934      0.868      0.843       0.88      0.939       0.83\n",
      "\n",
      "      Epoch    GPU_mem   box_loss   seg_loss   cls_loss   dfl_loss  Instances       Size\n",
      "     94/100      5.57G     0.3743     0.3749     0.3507      0.822          7        896: 100%|██████████| 118/118 [03:03<00:00,  1.56s/it]\n",
      "                 Class     Images  Instances      Box(P          R      mAP50  mAP50-95)     Mask(P          R      mAP50  mAP50-95): 100%|██████████| 8/8 [00:11<00:00,  1.45s/it]\n",
      "                   all        116        116      0.883      0.845      0.931      0.867      0.883      0.845      0.935      0.835\n",
      "\n",
      "      Epoch    GPU_mem   box_loss   seg_loss   cls_loss   dfl_loss  Instances       Size\n",
      "     95/100      5.54G     0.3715     0.3967     0.3812     0.8166         11        896: 100%|██████████| 118/118 [03:00<00:00,  1.53s/it]\n",
      "                 Class     Images  Instances      Box(P          R      mAP50  mAP50-95)     Mask(P          R      mAP50  mAP50-95): 100%|██████████| 8/8 [00:11<00:00,  1.50s/it]\n",
      "                   all        116        116      0.881      0.893      0.939      0.877      0.881      0.893       0.94      0.852\n",
      "\n",
      "      Epoch    GPU_mem   box_loss   seg_loss   cls_loss   dfl_loss  Instances       Size\n",
      "     96/100      7.35G     0.3804     0.3999     0.3701     0.8237          8        896: 100%|██████████| 118/118 [03:25<00:00,  1.74s/it]\n",
      "                 Class     Images  Instances      Box(P          R      mAP50  mAP50-95)     Mask(P          R      mAP50  mAP50-95): 100%|██████████| 8/8 [00:11<00:00,  1.50s/it]\n",
      "                   all        116        116      0.951      0.767      0.934      0.864      0.951      0.767      0.936      0.837\n",
      "\n",
      "      Epoch    GPU_mem   box_loss   seg_loss   cls_loss   dfl_loss  Instances       Size\n",
      "     97/100      7.27G     0.3665     0.3744     0.3636     0.8232          6        896: 100%|██████████| 118/118 [02:35<00:00,  1.32s/it]\n",
      "                 Class     Images  Instances      Box(P          R      mAP50  mAP50-95)     Mask(P          R      mAP50  mAP50-95): 100%|██████████| 8/8 [00:12<00:00,  1.51s/it]\n",
      "                   all        116        116      0.858      0.888      0.931      0.875      0.858      0.888      0.936      0.844\n",
      "\n",
      "      Epoch    GPU_mem   box_loss   seg_loss   cls_loss   dfl_loss  Instances       Size\n",
      "     98/100      5.48G     0.3706     0.3623      0.351     0.8169          8        896: 100%|██████████| 118/118 [03:09<00:00,  1.60s/it]\n",
      "                 Class     Images  Instances      Box(P          R      mAP50  mAP50-95)     Mask(P          R      mAP50  mAP50-95): 100%|██████████| 8/8 [00:11<00:00,  1.47s/it]\n",
      "                   all        116        116      0.857      0.879      0.929      0.862      0.857      0.879      0.933      0.836\n",
      "\n",
      "      Epoch    GPU_mem   box_loss   seg_loss   cls_loss   dfl_loss  Instances       Size\n",
      "     99/100      5.46G     0.3596     0.3624     0.3452     0.8097          6        896: 100%|██████████| 118/118 [03:05<00:00,  1.57s/it]\n",
      "                 Class     Images  Instances      Box(P          R      mAP50  mAP50-95)     Mask(P          R      mAP50  mAP50-95): 100%|██████████| 8/8 [00:11<00:00,  1.49s/it]\n",
      "                   all        116        116      0.874      0.897      0.934      0.879      0.874      0.897      0.938      0.851\n",
      "\n",
      "      Epoch    GPU_mem   box_loss   seg_loss   cls_loss   dfl_loss  Instances       Size\n",
      "    100/100      5.78G     0.3611     0.3806     0.3338     0.8171          5        896: 100%|██████████| 118/118 [03:22<00:00,  1.72s/it]\n",
      "                 Class     Images  Instances      Box(P          R      mAP50  mAP50-95)     Mask(P          R      mAP50  mAP50-95): 100%|██████████| 8/8 [00:13<00:00,  1.66s/it]\n",
      "                   all        116        116      0.928      0.778      0.929      0.868      0.928      0.778      0.929      0.828\n",
      "\n",
      "100 epochs completed in 4.331 hours.\n",
      "Optimizer stripped from runs\\segment\\train4\\weights\\last.pt, 23.9MB\n",
      "Optimizer stripped from runs\\segment\\train4\\weights\\best.pt, 23.9MB\n",
      "\n",
      "Validating runs\\segment\\train4\\weights\\best.pt...\n",
      "Ultralytics YOLOv8.0.121  Python-3.11.3 torch-2.0.1+cu118 CUDA:0 (NVIDIA GeForce GTX 1060 6GB, 6144MiB)\n",
      "YOLOv8s-seg summary (fused): 195 layers, 11779987 parameters, 0 gradients\n",
      "                 Class     Images  Instances      Box(P          R      mAP50  mAP50-95)     Mask(P          R      mAP50  mAP50-95): 100%|██████████| 8/8 [00:06<00:00,  1.24it/s]\n",
      "                   all        116        116       0.91      0.879      0.944      0.883       0.91      0.879      0.949      0.849\n",
      "Speed: 1.3ms preprocess, 34.8ms inference, 0.0ms loss, 1.7ms postprocess per image\n",
      "Results saved to \u001b[1mruns\\segment\\train4\u001b[0m\n"
     ]
    }
   ],
   "source": [
    "from ultralytics import YOLO\n",
    "\n",
    "modelten = YOLO(\"yolov8s-seg.pt\")\n",
    "\n",
    "modelten.train(batch=8, data=\"tendons.yaml\", epochs=100, imgsz=896)"
   ]
  },
  {
   "attachments": {},
   "cell_type": "markdown",
   "metadata": {},
   "source": [
    "## Validation"
   ]
  },
  {
   "cell_type": "code",
   "execution_count": 121,
   "metadata": {},
   "outputs": [
    {
     "name": "stderr",
     "output_type": "stream",
     "text": [
      "Ultralytics YOLOv8.0.121  Python-3.11.3 torch-2.0.1+cu118 CUDA:0 (NVIDIA GeForce GTX 1060 6GB, 6144MiB)\n",
      "YOLOv8s-seg summary (fused): 195 layers, 11779987 parameters, 0 gradients\n",
      "\u001b[34m\u001b[1mval: \u001b[0mScanning C:\\Users\\Goyo\\Desktop\\Goio\\TFG Mates\\dataset\\val\\labels.cache... 116 images, 0 backgrounds, 0 corrupt: 100%|██████████| 116/116 [00:00<?, ?it/s]\n",
      "                 Class     Images  Instances      Box(P          R      mAP50  mAP50-95)     Mask(P          R      mAP50  mAP50-95): 100%|██████████| 8/8 [00:15<00:00,  1.99s/it]\n",
      "                   all        116        116       0.91      0.879      0.944      0.889       0.91      0.879      0.949       0.84\n",
      "Speed: 3.0ms preprocess, 109.5ms inference, 0.0ms loss, 2.1ms postprocess per image\n",
      "Results saved to \u001b[1mruns\\segment\\val2\u001b[0m\n"
     ]
    },
    {
     "data": {
      "text/plain": [
       "ultralytics.yolo.utils.metrics.SegmentMetrics object with attributes:\n",
       "\n",
       "ap_class_index: array([0])\n",
       "box: ultralytics.yolo.utils.metrics.Metric object\n",
       "confusion_matrix: <ultralytics.yolo.utils.metrics.ConfusionMatrix object at 0x00000238F5803790>\n",
       "fitness: 1.7459850512909512\n",
       "keys: ['metrics/precision(B)', 'metrics/recall(B)', 'metrics/mAP50(B)', 'metrics/mAP50-95(B)', 'metrics/precision(M)', 'metrics/recall(M)', 'metrics/mAP50(M)', 'metrics/mAP50-95(M)']\n",
       "maps: array([     1.7297])\n",
       "names: {0: 'tendon'}\n",
       "plot: True\n",
       "results_dict: {'metrics/precision(B)': 0.9102415869685079, 'metrics/recall(B)': 0.8793103448275862, 'metrics/mAP50(B)': 0.9436959834544353, 'metrics/mAP50-95(B)': 0.8893746631691786, 'metrics/precision(M)': 0.9102415869685079, 'metrics/recall(M)': 0.8793103448275862, 'metrics/mAP50(M)': 0.9490573505156282, 'metrics/mAP50-95(M)': 0.8403028011574266, 'fitness': 1.7459850512909512}\n",
       "save_dir: WindowsPath('runs/segment/val2')\n",
       "seg: ultralytics.yolo.utils.metrics.Metric object\n",
       "speed: {'preprocess': 2.991306370702283, 'inference': 109.54616398646913, 'loss': 0.0, 'postprocess': 2.0868326055592505}"
      ]
     },
     "execution_count": 121,
     "metadata": {},
     "output_type": "execute_result"
    }
   ],
   "source": [
    "from ultralytics import YOLO\n",
    "YOLO(\"runs/segment/train4/weights/best.pt\").val()"
   ]
  }
 ],
 "metadata": {
  "kernelspec": {
   "display_name": "Python 3 (ipykernel)",
   "language": "python",
   "name": "python3"
  },
  "language_info": {
   "codemirror_mode": {
    "name": "ipython",
    "version": 3
   },
   "file_extension": ".py",
   "mimetype": "text/x-python",
   "name": "python",
   "nbconvert_exporter": "python",
   "pygments_lexer": "ipython3",
   "version": "3.11.3"
  },
  "orig_nbformat": 4
 },
 "nbformat": 4,
 "nbformat_minor": 2
}
